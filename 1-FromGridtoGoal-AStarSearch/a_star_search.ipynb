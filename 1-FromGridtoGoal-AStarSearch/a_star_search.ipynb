{
 "cells": [
  {
   "cell_type": "markdown",
   "metadata": {},
   "source": [
    "<p style=\"font-size: 18px;\">\n",
    "  This is the accompanying code for the post titled \"From Grid to Goal: A Practical Guide to A* Search.\"<br>\n",
    "  You can find it <a href=\"https://pureai.substack.com/p/from-grid-to-goal-code-included\">here</a>.<br>\n",
    "  Published: August 5, 2023<br>\n",
    "  <a href=\"https://pureai.substack.com\">https://pureai.substack.com</a>\n",
    "</p>"
   ]
  },
  {
   "cell_type": "markdown",
   "metadata": {},
   "source": [
    "Welcome to this Jupyter notebook! If you're new to Python or don't have it installed on your system, don't worry; you can still follow along and explore the code.\n",
    "\n",
    "Here's a quick guide to getting started:\n",
    "\n",
    "- Using an Online Platform: You can run this notebook in a web browser using platforms like Google Colab or Binder. These services offer free access to Jupyter notebooks and don't require any installation.\n",
    "- Installing Python Locally: If you'd prefer to run this notebook on your own machine, you'll need to install Python. A popular distribution for scientific computing is Anaconda, which includes Python, Jupyter, and other useful tools.\n",
    "  - Download Anaconda from [here](https://www.anaconda.com/download).\n",
    "  - Follow the installation instructions for your operating system.\n",
    "  - Launch Jupyter Notebook from Anaconda Navigator or by typing jupyter notebook in your command line or terminal.\n",
    "- Opening the Notebook: Once you have Jupyter running, navigate to the location of this notebook file (.ipynb) and click on it to open.\n",
    "- Running the Code: You can run each cell in the notebook by selecting it and pressing Shift + Enter. Feel free to modify the code and experiment with it.\n",
    "- Need More Help?: If you're new to Python or Jupyter notebooks, you might find these resources helpful:\n",
    "  - [Python.org's Beginner's Guide](https://docs.python.org/3/tutorial/index.html)\n",
    "  - [Jupyter Notebook Basics](https://jupyter-notebook.readthedocs.io/en/stable/examples/Notebook/Notebook%20Basics.html)\n",
    "\n",
    "Happy coding, and enjoy exploring the fascinating world of A* Search and State Space Search!"
   ]
  },
  {
   "cell_type": "code",
   "execution_count": 1,
   "metadata": {},
   "outputs": [
    {
     "name": "stdout",
     "output_type": "stream",
     "text": [
      "The version of Python used is: 3.10.12\n"
     ]
    }
   ],
   "source": [
    "# A small readme\n",
    "from platform import python_version\n",
    "print(f\"The version of Python used is: {python_version()}\")\n",
    "\n",
    "from typing import List, Tuple, Dict, Callable, Optional\n",
    "import random\n",
    "import heapq\n",
    "\n",
    "################### Note ###################\n",
    "# If you don't have heapq installed, you'll want to download the package from pip\n",
    "# This can be done by running the following command in your terminal:\n",
    "# pip install heapq or pip3 install heapq\n",
    "################### Note ###################"
   ]
  },
  {
   "attachments": {},
   "cell_type": "markdown",
   "metadata": {},
   "source": [
    "# State Space Search with A* Search\n",
    "\n",
    "You are going to implement the A\\* Search algorithm for navigation problems.\n",
    "\n",
    "## Motivation\n",
    "\n",
    "In video games, search techniques are commonly applied to path-finding. Even though game characters usually move within continuous spaces, it's straightforward to design a navigation system using a grid of \"waypoints\" overlaid on that space. To travel from Point A to Point B, a character first performs a line of sight (LOS) scan to identify the closest waypoint to its starting point (named Waypoint A) and the closest LOS waypoint to its destination (named Waypoint B). The A* search algorithm is then employed to determine the shortest path from Waypoint A to Waypoint B. Consequently, the complete journey comprises four segments: from Point A to Waypoint A, then to Waypoint B, and finally to Point B.\n",
    "\n",
    "To make this concept more digestible, we'll represent the problem within a grid world. In this representation, different symbols on the grid will denote various types of terrain, each having its own cost for entry:\n",
    "\n",
    "```\n",
    "token   terrain    cost \n",
    "🌾       plains     1\n",
    "🌲       forest     3\n",
    "🪨       hills      5\n",
    "🐊       swamp      7\n",
    "🗻       mountains  impassible\n",
    "```\n",
    "\n",
    "We can think of the raw format of the map as being something like:\n",
    "\n",
    "```\n",
    "🌾🌾🌾🌾🌲🌾🌾\n",
    "🌾🌾🌾🌲🌲🌲🌾\n",
    "🌾🗻🗻🗻🌾🌾🌾\n",
    "🌾🌾🗻🗻🌾🌾🌾\n",
    "🌾🌾🗻🌾🌾🌲🌲\n",
    "🌾🌾🌾🌾🌲🌲🌲\n",
    "🌾🌾🌾🌾🌾🌾🌾\n",
    "```"
   ]
  },
  {
   "cell_type": "markdown",
   "metadata": {},
   "source": [
    "# Graph Based State Space Search Pseudocode\n",
    "\n",
    "In our quest to comprehend State Space Search, the following pseudocode serves as a vital guide for formulating our algorithm\n",
    "\n",
    "```text\n",
    "place initial state on frontier\n",
    "initialize explored list\n",
    "while frontier is not empty\n",
    "\tcurrent-state := next state on frontier\n",
    "\treturn path( current-state) if is-terminal( current-state)\n",
    "\tchildren := successors( current-state)\n",
    "\tfor each child in children\n",
    "\t\tadd child to frontier if not on explored or frontier\n",
    "\tadd current-state to explored\n",
    "return nil\n",
    "```\n",
    "This pseudocode outlines the basic framework for a State Space Search. Initially, it places the starting state on what's known as the \"frontier\" and initializes a list of explored states. As long as there are states on the frontier, the algorithm continues to explore.\n",
    "\n",
    "Within each iteration, the algorithm:\n",
    "\n",
    "- Selects the next state from the frontier (referred to as \"current-state\").\n",
    "- Checks if this state is the goal (or a \"terminal\" state), and if so, returns the path to it.\n",
    "- Identifies the children or successor states of the current state.\n",
    "- Adds each child state to the frontier if it hasn’t been explored or already on the frontier.\n",
    "- Finally, adds the current state to the explored list to prevent re-exploration.\n",
    "\n",
    "If the frontier is emptied without finding a goal state, the algorithm returns nil, indicating no path found.\n",
    "\n",
    "In the context of State Space Search, this pseudocode succinctly captures the essence of exploring a space systematically. It helps us not only to navigate through different states efficiently but also to ensure that we consider all possible paths to find the most optimal route to our goal."
   ]
  },
  {
   "cell_type": "markdown",
   "metadata": {},
   "source": [
    "### generate_world\n",
    "\n",
    "Generate a random world with the given dimensions and the given number of obstacles.\n",
    "\n",
    "* **m** Int: The number of rows in the world.\n",
    "* **n** Int: The number of columns in the world.\n",
    "* **start** Tuple(Int, Int): The starting position of the agent.\n",
    "* **goal** Tuple(Int, Int): The goal position of the agent.\n",
    "\n",
    "**returns** List[List[str]]: A randomly generated world of obstacles."
   ]
  },
  {
   "cell_type": "code",
   "execution_count": 2,
   "metadata": {},
   "outputs": [],
   "source": [
    "def generate_world(m: int, n: int, start: Tuple[int, int], goal: Tuple[int, int]) -> List[List[str]]:\n",
    "    terrains = ['🌾', '🌲', '🪨', '🐊', '🗻']\n",
    "    world = [[random.choice(terrains) for _ in range(n)] for _ in range(m)]\n",
    "    # Ensure start and goal are passable\n",
    "    world[start[0]][start[1]] = random.choice(terrains[:-1])  # Exclude '🗻'\n",
    "    world[goal[0]][goal[1]] = random.choice(terrains[:-1])  # Exclude '🗻'\n",
    "    return world"
   ]
  },
  {
   "attachments": {},
   "cell_type": "markdown",
   "metadata": {},
   "source": [
    "## The World\n",
    "\n",
    "Given a map like the one above, we can easily represent each row as a `List` and the entire map as `List of Lists`:"
   ]
  },
  {
   "cell_type": "code",
   "execution_count": 3,
   "metadata": {},
   "outputs": [
    {
     "name": "stdout",
     "output_type": "stream",
     "text": [
      "🐊🗻🗻🐊🗻🐊🌾🗻🐊🪨🌲🪨🗻🌾🐊🐊🌲🌲🪨🌲🪨🗻🌲🌲🗻\n",
      "🌲🌾🌲🌲🪨🪨🐊🪨🌾🌲🌲🐊🗻🗻🪨🌾🌾🌾🌲🐊🗻🌲🌲🌾🐊\n",
      "🗻🌾🗻🐊🐊🌾🪨🌲🌲🐊🌾🐊🗻🌾🌾🐊🐊🌲🪨🌾🗻🌲🌲🌲🌲\n",
      "🪨🌲🌾🌲🐊🪨🌾🌾🗻🐊🌾🪨🌲🐊🐊🌲🌲🌲🪨🗻🗻🪨🗻🗻🌲\n",
      "🌲🪨🐊🌲🌾🗻🌲🪨🐊🌾🌲🪨🌾🪨🌾🪨🪨🐊🪨🗻🐊🌲🐊🪨🪨\n",
      "🪨🪨🌾🌾🌲🐊🗻🗻🐊🌲🌾🌾🐊🌾🪨🗻🌾🗻🗻🪨🪨🌲🗻🗻🗻\n",
      "🐊🌾🌾🗻🪨🐊🪨🌾🐊🪨🗻🌾🗻🌲🗻🪨🌾🪨🗻🌲🌾🌲🌾🌾🗻\n",
      "🌲🌾🌲🗻🐊🌾🪨🗻🗻🗻🪨🐊🌲🐊🌾🐊🐊🌲🗻🗻🌲🌲🪨🐊🗻\n",
      "🗻🌾🗻🌲🌾🐊🪨🗻🐊🐊🐊🌾🪨🪨🪨🌾🌾🗻🪨🗻🐊🌲🗻🌲🐊\n",
      "🪨🪨🗻🐊🐊🪨🗻🌾🪨🐊🗻🌲🪨🪨🌾🌲🌾🗻🗻🐊🌲🪨🌾🪨🌾\n",
      "🐊🐊🌾🌲🌲🗻🗻🌲🪨🐊🌾🌲🪨🪨🌾🌲🌲🌾🌲🐊🌾🪨🪨🐊🌾\n",
      "🌾🌲🪨🐊🐊🪨🌾🗻🪨🐊🌾🌲🐊🐊🌾🪨🐊🐊🌾🐊🌾🌲🌾🐊🌲\n",
      "🌲🪨🐊🗻🗻🪨🗻🗻🌲🌾🌾🐊🐊🗻🌲🪨🐊🪨🌲🌾🐊🗻🐊🗻🌾\n",
      "🌲🌾🪨🗻🌾🪨🌲🪨🌾🪨🪨🗻🌲🌾🪨🪨🪨🐊🐊🪨🌾🐊🗻🌲🗻\n",
      "🐊🐊🪨🐊🌲🌾🪨🌾🪨🐊🗻🐊🗻🌲🌲🗻🌾🗻🐊🗻🌾🌲🗻🪨🪨\n",
      "🐊🌾🪨🌲🌾🗻🌾🪨🪨🪨🗻🪨🪨🗻🌲🪨🪨🐊🌾🪨🗻🌾🌾🐊🪨\n",
      "🌾🐊🪨🐊🌾🐊🐊🐊🗻🌾🗻🗻🌲🗻🪨🐊🌲🐊🌲🐊🗻🌾🗻🌲🌾\n",
      "🌲🌾🌲🗻🌾🪨🪨🗻🌾🗻🗻🗻🗻🗻🐊🐊🌾🌲🌲🌾🌾🌾🌾🌲🗻\n",
      "🌲🌲🗻🐊🪨🌲🗻🪨🪨🪨🌾🌲🐊🪨🐊🐊🌲🗻🌲🌾🪨🗻🗻🗻🌲\n",
      "🌲🗻🐊🗻🌲🗻🌲🌲🪨🪨🪨🌾🗻🌲🗻🐊🐊🐊🐊🌾🌲🗻🗻🐊🗻\n",
      "🌲🗻🪨🗻🌾🌾🗻🪨🌾🌲🌲🪨🌾🐊🐊🪨🌲🪨🌾🌾🗻🌾🗻🌲🌾\n",
      "🐊🪨🐊🪨🗻🪨🪨🪨🌲🐊🪨🐊🪨🌲🪨🌲🐊🌲🪨🐊🗻🌲🗻🌾🪨\n",
      "🌲🗻🌾🗻🪨🗻🐊🪨🌾🪨🗻🌲🪨🌲🌲🌾🗻🐊🌲🌾🌾🗻🌾🌲🐊\n",
      "🪨🪨🐊🗻🐊🌾🪨🗻🪨🪨🌾🌲🪨🐊🪨🗻🌲🪨🌲🌲🐊🐊🐊🗻🌲\n",
      "🌲🌲🗻🪨🪨🪨🪨🌲🐊🪨🗻🌲🌾🪨🗻🗻🗻🗻🪨🗻🐊🗻🪨🪨🌾\n"
     ]
    }
   ],
   "source": [
    "# Generate a large world with the starting point at (0,0) and the goal at (24,24)\n",
    "large_world = generate_world(m=25, n=25, start=(0,0), goal=(24,24))\n",
    "\n",
    "for row in large_world:\n",
    "    print(''.join(row))"
   ]
  },
  {
   "cell_type": "code",
   "execution_count": 4,
   "metadata": {},
   "outputs": [
    {
     "name": "stdout",
     "output_type": "stream",
     "text": [
      "🌾🌾🌾🌾🌲🗻🌲🐊🌾🌲\n",
      "🐊🗻🪨🌲🐊🗻🌲🌾🌾🌾\n",
      "🌾🌲🐊🪨🐊🪨🗻🗻🪨🪨\n",
      "🐊🪨🐊🌾🌲🗻🐊🌲🗻🌲\n",
      "🐊🪨🌾🐊🌲🪨🗻🗻🐊🪨\n",
      "🗻🐊🗻🌾🐊🌲🪨🪨🌲🌾\n",
      "🌾🌲🌾🗻🌲🗻🌲🐊🌲🗻\n",
      "🗻🗻🐊🌾🗻🗻🗻🌾🌲🌾\n",
      "🌾🗻🌲🌾🐊🌾🌲🐊🌾🐊\n",
      "🌲🪨🗻🌲🪨🐊🗻🌾🪨🌲\n"
     ]
    }
   ],
   "source": [
    "# Generate a large world with the starting point at (0,0) and the goal at (24,24)\n",
    "small_world = generate_world(m=10, n=10, start=(0,0), goal=(9,9))\n",
    "\n",
    "for row in small_world:\n",
    "    print(''.join(row))"
   ]
  },
  {
   "attachments": {},
   "cell_type": "markdown",
   "metadata": {},
   "source": [
    "## Defining States and Their Representation\n",
    "\n",
    "A State Space Search problem consists of four fundamental components: States, Actions, Transitions, and Costs.\n",
    "\n",
    "In the context of our navigation problem, a state corresponds to the agent's current location, defined by coordinates (x,y). Rather than explicitly listing all possible states, they are implied within the framework of the world map."
   ]
  },
  {
   "attachments": {},
   "cell_type": "markdown",
   "metadata": {},
   "source": [
    "## Actions and Transitions\n",
    "\n",
    "We must now identify the actions that are possible within the world. These actions can encompass various movement directions such as north, south, east, west, or even diagonal directions. In essence, the agent’s potential movements, in combination with the established states, create the permissible actions that form the Transition set.\n",
    "\n",
    "Instead of explicitly listing the Transition set, we can more efficiently determine the valid actions and transitions as needed. By employing a movement model that defines offsets to the current state, we can quickly check which among the possible successor states are allowed. This is managed within the successor function, which will be detailed in the accompanying pseudocode.\n",
    "\n",
    "An example of this kind of movement model is illustrated below."
   ]
  },
  {
   "cell_type": "code",
   "execution_count": 5,
   "metadata": {},
   "outputs": [],
   "source": [
    "MOVES = [(0,-1), (1,0), (0,1), (-1,0)]"
   ]
  },
  {
   "attachments": {},
   "cell_type": "markdown",
   "metadata": {},
   "source": [
    "## Costs\n",
    "\n",
    "We can encode the costs described above in a `Dict`:"
   ]
  },
  {
   "cell_type": "code",
   "execution_count": 6,
   "metadata": {},
   "outputs": [],
   "source": [
    "COSTS = { '🌾': 1, '🌲': 3, '🪨': 5, '🐊': 7}"
   ]
  },
  {
   "attachments": {},
   "cell_type": "markdown",
   "metadata": {},
   "source": [
    "## Specification\n",
    "\n",
    "You will implement a function called `a_star_search` that takes the parameters and returns the value as specified below. The return value is going to look like this:\n",
    "\n",
    "`[(0,1), (0,1), (0,1), (1,0), (1,0), (1,0), (1,0), (1,0), (1,0), (0,1), (0,1), (0,1)]`\n",
    "\n",
    "You should also implement a function called `pretty_print_path`. \n",
    "The `pretty_print_path` function prints an ASCII representation of the path generated by the `a_star_search` on top of the terrain map. \n",
    "For example, for the test world, it would print this:\n",
    "\n",
    "```\n",
    "⏬🌲🌲🌲🌲🌲🌲\n",
    "⏬🌲🌲🌲🌲🌲🌲\n",
    "⏬🌲🌲🌲🌲🌲🌲\n",
    "⏩⏩⏩⏩⏩⏩⏬\n",
    "🌲🌲🌲🌲🌲🌲⏬\n",
    "🌲🌲🌲🌲🌲🌲⏬\n",
    "🌲🌲🌲🌲🌲🌲🎁\n",
    "```\n",
    "\n",
    "using ⏩,⏪,⏫ ⏬ to represent actions and `🎁` to represent the goal. (Note the format of the output...there are no spaces, commas, or extraneous characters). You are printing the path over the terrain.\n",
    "This is an impure function (because it has side effects, the printing, before returning anything).\n",
    "\n",
    "Note that in Python:\n",
    "```\n",
    "> a = [\"*\", \"-\", \"*\"]\n",
    "> \"\".join(a)\n",
    "*-*\n",
    "```\n",
    "Do not print raw data structures; do not insert unneeded/requested spaces!\n",
    "\n",
    "### Additional comments\n",
    "\n",
    "As Python is an interpreted language, you're going to need to insert all of your functions *before* the actual `a_star_search` function implementation. \n",
    "Do not make unwarranted assumptions (for example, do not assume that the start is always (0, 0).\n",
    "Do not refer to global variables, pass them as parameters (functional programming).\n",
    "\n",
    "Simple and correct is better than inefficient and incorrect, or worse, incomplete.\n",
    "For example, you can use a simple List, with some helper functions, as a Stack or a Queue or a Priority Queue.\n",
    "Avoid the Python implementations of HeapQ, PriorityQueue implementation unless you are very sure about what you're doing as they require *immutable* keys."
   ]
  },
  {
   "cell_type": "code",
   "execution_count": 7,
   "metadata": {},
   "outputs": [],
   "source": [
    "\n",
    "import unittest"
   ]
  },
  {
   "attachments": {},
   "cell_type": "markdown",
   "metadata": {},
   "source": [
    "*add as many markdown and code cells here as you need for helper functions. We have added `heuristic` for you*"
   ]
  },
  {
   "attachments": {},
   "cell_type": "markdown",
   "metadata": {},
   "source": [
    "<a id=\"heuristic\"></a>\n",
    "## heuristic\n",
    "\n",
    "**The Manhattan distance calculation is used for the heuristic. This calculation is the total sum of the absolute value of the difference between two points. It should give a good approximation for the heuristic used in A* search.**\n",
    "\n",
    "* **pos** Tuple[int, int]: the current position used to calculate the heuristic, `(x, y)`.\n",
    "* **goal** Tuple[int, int]: the desired goal position for the bot, `(x, y)`.\n",
    "\n",
    "**returns** int: the heuristic calculated as the Manhattan distance between the pos and the goal coordinates as an `int`."
   ]
  },
  {
   "cell_type": "code",
   "execution_count": 8,
   "metadata": {},
   "outputs": [],
   "source": [
    "def heuristic(pos: Tuple[int, int], goal: Tuple[int, int]) -> int:\n",
    "    # The Manhattan distance heuristic\n",
    "    return abs(goal[0] - pos[0]) + abs(goal[1] - pos[1])"
   ]
  },
  {
   "attachments": {},
   "cell_type": "markdown",
   "metadata": {},
   "source": [
    "### Unit test for `heuristic`"
   ]
  },
  {
   "cell_type": "code",
   "execution_count": 9,
   "metadata": {},
   "outputs": [],
   "source": [
    "test_cases = [\n",
    "    ((0, 0), (0, 0), 0),\n",
    "    ((0, 0), (1, 1), 2),\n",
    "    ((0, 0), (-1, -1), 2),\n",
    "    ((1, 2), (3, 4), 4),\n",
    "    ((-1, -2), (-3, -4), 4),\n",
    "    ((-1, 2), (3, -4), 10)\n",
    "]\n",
    "\n",
    "for pos, goal, expected in test_cases:\n",
    "    assert heuristic(pos, goal) == expected, f\"For {pos} and {goal}, expected {expected} but got {heuristic(pos, goal)}\""
   ]
  },
  {
   "cell_type": "markdown",
   "metadata": {},
   "source": [
    "<a id=\"initialize_search\"></a>\n",
    "## initialize_search\n",
    "\n",
    "**This function initializes the search by creating the initial states, the priority queue, and starting parent nodes.**\n",
    "\n",
    "* **start** Tuple[int, int]: the starting position, `(x, y)`.\n",
    "* **heuristic** Callable: the heuristic function used to calculate the heuristic for the A* search.\n",
    "* **goal** Tuple[int, int]: the desired goal position, `(x, y)`.\n",
    "\n",
    "**returns** Tuple[List[Tuple[int, Tuple[int, int]]], Dict[Tuple[int, int], int], Dict[Tuple[int, int], int], Dict[Tuple[int, int], int], Dict[Tuple[int, int], Optional[Tuple[int, int]]]]: the priority queue, initial states, and the starting parent nodes."
   ]
  },
  {
   "cell_type": "code",
   "execution_count": 10,
   "metadata": {},
   "outputs": [],
   "source": [
    "def initialize_search(start: Tuple[int, int], heuristic: Callable, goal: Tuple[int, int]) -> Tuple[List[Tuple[int, Tuple[int, int]]], Dict[Tuple[int, int], int], Dict[Tuple[int, int], int], Dict[Tuple[int, int], int], Dict[Tuple[int, int], Optional[Tuple[int, int]]]]:\n",
    "    priority_queue = []\n",
    "    heapq.heappush(priority_queue, (0, start))\n",
    "\n",
    "    G = {start: 0}  # The actual cost from the starting point to the current_pos position\n",
    "    H = {start: heuristic(start, goal)}  # Heuristic cost of the current_pos position to the goal (this is a guess)\n",
    "    F = {start: H[start]}  # Total estimated cost (F = G + H)\n",
    "    parent_nodes = {start: None}\n",
    "    \n",
    "    return priority_queue, G, H, F, parent_nodes"
   ]
  },
  {
   "cell_type": "markdown",
   "metadata": {},
   "source": [
    "### Unit Test for `initialize_search`"
   ]
  },
  {
   "cell_type": "code",
   "execution_count": 11,
   "metadata": {},
   "outputs": [
    {
     "name": "stdout",
     "output_type": "stream",
     "text": [
      "All assertions passed!\n"
     ]
    }
   ],
   "source": [
    "import math\n",
    "\n",
    "# Define a start and goal\n",
    "start = (0, 0)\n",
    "goal = (5, 5)\n",
    "\n",
    "# Initialize the search\n",
    "priority_queue, G, H, F, parent_nodes = initialize_search(start, heuristic, goal)\n",
    "\n",
    "# Assert the priority_queue contains the correct first element\n",
    "assert priority_queue[0] == (0, start), f\"Expected: [(0, {start})], but got: {priority_queue}\"\n",
    "\n",
    "# Assert the G, H, F, and parent_nodes dictionaries have been correctly initialized for the start node\n",
    "assert G == {start: 0}, f\"Expected: {{start: 0}}, but got: {G}\"\n",
    "assert math.isclose(H[start], heuristic(start, goal)), f\"Expected: {heuristic(start, goal)}, but got: {H[start]}\"\n",
    "assert math.isclose(F[start], heuristic(start, goal)), f\"Expected: {heuristic(start, goal)}, but got: {F[start]}\"\n",
    "assert parent_nodes == {start: None}, f\"Expected: {{start: None}}, but got: {parent_nodes}\"\n",
    "\n",
    "print(\"All assertions passed!\")"
   ]
  },
  {
   "cell_type": "markdown",
   "metadata": {},
   "source": [
    "<a id=\"reconstruct_path\"></a>\n",
    "## reconstruct_path\n",
    "\n",
    "\n",
    "**This function reconstructs the path from the start to the goal using the parent nodes.**\n",
    "\n",
    "* **current_pos** Tuple[int, int]: the current position, `(x, y)`.\n",
    "* **parent_nodes** Dict[Tuple[int, int], Optional[Tuple[int, int]]]: the parent nodes used to reconstruct the path.\n",
    "\n",
    "**returns** List[Tuple[int, int]]: the path from the start to the goal."
   ]
  },
  {
   "cell_type": "code",
   "execution_count": 12,
   "metadata": {},
   "outputs": [],
   "source": [
    "def reconstruct_path(current_pos: Tuple[int, int], parent_nodes: Dict[Tuple[int, int], Tuple[int, int]]) -> List[Tuple[int, int]]:\n",
    "    path = []\n",
    "    while current_pos is not None:\n",
    "        path.append(current_pos)\n",
    "        current_pos = parent_nodes[current_pos]\n",
    "    path.reverse()\n",
    "    return path"
   ]
  },
  {
   "cell_type": "markdown",
   "metadata": {},
   "source": [
    "### Unit Test for `reconstruct_path`"
   ]
  },
  {
   "cell_type": "code",
   "execution_count": 13,
   "metadata": {},
   "outputs": [
    {
     "name": "stdout",
     "output_type": "stream",
     "text": [
      "All assertions passed!\n"
     ]
    }
   ],
   "source": [
    "# Define parent_nodes dict that represents a hypothetical path search result\n",
    "parent_nodes = {(0, 0): None, (1, 0): (0, 0), (2, 0): (1, 0), (2, 1): (2, 0), (3, 1): (2, 1), (4, 1): (3, 1)}\n",
    "\n",
    "# Define the final position (the goal that was reached)\n",
    "current_pos = (4, 1)\n",
    "\n",
    "# Call the reconstruct_path function\n",
    "path = reconstruct_path(current_pos, parent_nodes)\n",
    "\n",
    "# Define the expected result\n",
    "expected_path = [(0, 0), (1, 0), (2, 0), (2, 1), (3, 1), (4, 1)]\n",
    "\n",
    "# Use an assert statement to check the reconstructed path matches the expected path\n",
    "assert path == expected_path, f\"Expected: {expected_path}, but got: {path}\"\n",
    "\n",
    "print(\"All assertions passed!\")"
   ]
  },
  {
   "cell_type": "markdown",
   "metadata": {},
   "source": [
    "<a id=\"explore_neighbors\"></a>\n",
    "## explore_neighbors\n",
    "\n",
    "**This function explores the neighbors of the current position and adds them to the priority queue if they are valid.**\n",
    "\n",
    "* **world** List[List[str]]: the world map.\n",
    "* **current_pos** Tuple[int, int]: the current position, `(x, y)`.\n",
    "* **moves** List[Tuple[int, int]]: the moves used to explore the neighbors.\n",
    "* **costs** Dict[str, int]: the costs associated with each terrain type.\n",
    "* **G** Dict[Tuple[int, int], int]: the G values for each position.\n",
    "* **H** Dict[Tuple[int, int], int]: the H values for each position.\n",
    "* **F** Dict[Tuple[int, int], int]: the F values for each position.\n",
    "* **parent_nodes** Dict[Tuple[int, int], Optional[Tuple[int, int]]]: the parent nodes for each position.\n",
    "* **priority_queue** List[Tuple[int, Tuple[int, int]]]: the priority queue used to explore the neighbors.\n",
    "* **goal** Tuple[int, int]: the desired goal position, `(x, y)`.\n",
    "* **heuristic** Callable: the heuristic function used to calculate the heuristic for the A* search.\n",
    "\n",
    "**returns** the updated G, H, F, parent nodes, and priority queue."
   ]
  },
  {
   "cell_type": "code",
   "execution_count": 14,
   "metadata": {},
   "outputs": [],
   "source": [
    "def explore_neighbors(world: List[List[str]], current_pos: Tuple[int, int], moves: List[Tuple[int, int]], costs: Dict[str, int], G: Dict[Tuple[int, int], int], H: Dict[Tuple[int, int], int], F: Dict[Tuple[int, int], int], parent_nodes: Dict[Tuple[int, int], Tuple[int, int]], priority_queue: List[Tuple[int, int]], goal: Tuple[int, int], heuristic: Callable):\n",
    "    for x, y in moves:\n",
    "        neighbor_node = current_pos[0] + x, current_pos[1] + y\n",
    "        if 0 <= neighbor_node[0] < len(world) and 0 <= neighbor_node[1] < len(world[0]) and world[neighbor_node[0]][neighbor_node[1]] in costs:\n",
    "            tentative_g = G[current_pos] + costs[world[neighbor_node[0]][neighbor_node[1]]]\n",
    "\n",
    "            if neighbor_node not in G or tentative_g < G[neighbor_node]:\n",
    "                G[neighbor_node] = tentative_g\n",
    "                H[neighbor_node] = heuristic(neighbor_node, goal)\n",
    "                F[neighbor_node] = G[neighbor_node] + H[neighbor_node]\n",
    "                parent_nodes[neighbor_node] = current_pos\n",
    "                heapq.heappush(priority_queue, (F[neighbor_node], neighbor_node))"
   ]
  },
  {
   "cell_type": "markdown",
   "metadata": {},
   "source": [
    "### Unit Test for `explore_neighbors`"
   ]
  },
  {
   "cell_type": "code",
   "execution_count": 15,
   "metadata": {},
   "outputs": [
    {
     "name": "stdout",
     "output_type": "stream",
     "text": [
      "All assertions passed!\n"
     ]
    }
   ],
   "source": [
    "# Define world, costs, moves, heuristic\n",
    "world = [['.' for _ in range(5)] for _ in range(5)]\n",
    "costs = {'.': 1}\n",
    "moves = [(0, 1), (1, 0), (0, -1), (-1, 0)]  # right, down, left, up\n",
    "heuristic = lambda pos, goal: abs(pos[0] - goal[0]) + abs(pos[1] - goal[1])  # Manhattan distance\n",
    "\n",
    "# Define initial position, goal, and call the initialization function\n",
    "start = (0, 0)\n",
    "goal = (2, 2)\n",
    "priority_queue, G, H, F, parent_nodes = initialize_search(start, heuristic, goal)\n",
    "\n",
    "# Call explore_neighbors function\n",
    "explore_neighbors(world, start, moves, costs, G, H, F, parent_nodes, priority_queue, goal, heuristic)\n",
    "\n",
    "# Define expected output\n",
    "expected_G = {(0, 0): 0, (0, 1): 1, (1, 0): 1}\n",
    "expected_parent_nodes = {(0, 0): None, (0, 1): (0, 0), (1, 0): (0, 0)}\n",
    "\n",
    "# Check the output matches the expected output\n",
    "assert G == expected_G, f\"Expected: {expected_G}, but got: {G}\"\n",
    "assert parent_nodes == expected_parent_nodes, f\"Expected: {expected_parent_nodes}, but got: {parent_nodes}\"\n",
    "\n",
    "print(\"All assertions passed!\")"
   ]
  },
  {
   "attachments": {},
   "cell_type": "markdown",
   "metadata": {},
   "source": [
    "<a id=\"a_star_search\"></a>\n",
    "## a_star_search\n",
    "\n",
    "*The A* search algorithm (a type of best-first search algorithm) uses both the cost and a heuristic to figure out the most optimal path for a robot to travel in the given world.*\n",
    "*The goal of the algorithm is to minimize the total cost that is takes to travel from a starting point to a goal*\n",
    "\n",
    "* **world** List[List[str]]: the actual context for the navigation problem.\n",
    "* **start** Tuple[int, int]: the starting location of the bot, `(x, y)`.\n",
    "* **goal** Tuple[int, int]: the desired goal position for the bot, `(x, y)`.\n",
    "* **costs** Dict[str, int]: is a `Dict` of costs for each type of terrain in **world**.\n",
    "* **moves** List[Tuple[int, int]]: the legal movement model expressed in offsets in **world**.\n",
    "* **heuristic** Callable: is a heuristic function, $h(n)$.\n",
    "\n",
    "\n",
    "**returns** List[Tuple[int, int]]: the offsets needed to get from start state to the goal as a `List`."
   ]
  },
  {
   "cell_type": "code",
   "execution_count": 16,
   "metadata": {},
   "outputs": [],
   "source": [
    "def a_star_search(world: List[List[str]], start: Tuple[int, int], goal: Tuple[int, int], costs: Dict[str, int], moves: List[Tuple[int, int]], heuristic: Callable) -> List[Tuple[int, int]]:\n",
    "    priority_queue, G, H, F, parent_nodes = initialize_search(start, heuristic, goal)\n",
    "    \n",
    "    while priority_queue:\n",
    "        _, current_pos = heapq.heappop(priority_queue)\n",
    "        if current_pos == goal:\n",
    "            return reconstruct_path(current_pos, parent_nodes)\n",
    "        explore_neighbors(world, current_pos, moves, costs, G, H, F, parent_nodes, priority_queue, goal, heuristic)\n",
    "    return []"
   ]
  },
  {
   "attachments": {},
   "cell_type": "markdown",
   "metadata": {},
   "source": [
    "### Unit test for `a_star_search`"
   ]
  },
  {
   "cell_type": "code",
   "execution_count": 17,
   "metadata": {},
   "outputs": [
    {
     "name": "stdout",
     "output_type": "stream",
     "text": [
      "All assertions passed!\n"
     ]
    }
   ],
   "source": [
    "test_world = [\n",
    "    ['🌾', '🌲', '🌲', '🌲', '🌲', '🌲', '🌲'],\n",
    "    ['🌾', '🌲', '🌲', '🌲', '🌲', '🌲', '🌲'],\n",
    "    ['🌾', '🌲', '🌲', '🌲', '🌲', '🌲', '🌲'],\n",
    "    ['🌾', '🌾', '🌾', '🌾', '🌾', '🌾', '🌾'],\n",
    "    ['🌲', '🌲', '🌲', '🌲', '🌲', '🌲', '🌾'],\n",
    "    ['🌲', '🌲', '🌲', '🌲', '🌲', '🌲', '🌾'],\n",
    "    ['🌲', '🌲', '🌲', '🌲', '🌲', '🌲', '🌾']\n",
    "]\n",
    "\n",
    "expected_path = [(0, 0), (1, 0), (2, 0), (3, 0), (3, 1), (3, 2), (3, 3), (3, 4), (3, 5), (3, 6), (4, 6), (5, 6), (6, 6)]\n",
    "test_start = (0, 0)\n",
    "test_goal = (len(test_world[0]) - 1, len(test_world) - 1)\n",
    "test_path = a_star_search(test_world, test_start, test_goal, COSTS, MOVES, heuristic)\n",
    "assert test_path == expected_path\n",
    "\n",
    "print('All assertions passed!')"
   ]
  },
  {
   "attachments": {},
   "cell_type": "markdown",
   "metadata": {},
   "source": [
    "## pretty_print_path\n",
    "\n",
    "*The `pretty_print_path` function computes the cost of the path that the `a_star_search` function returns.\n",
    "As it computes the total cost, it replaces the path with symbols of arrows pointing in the directions of the allowed movement.\n",
    "It then prints a new ASCII representation of the graph with the path symbols and returns the total path cost.*\n",
    "\n",
    "* **world** List[List[str]]: the world (terrain map) for the path to be printed upon.\n",
    "* **path** List[Tuple[int, int]]: the path from start to goal, in offsets.\n",
    "* **start** Tuple[int, int]: the starting location for the path.\n",
    "* **goal** Tuple[int, int]: the goal location for the path.\n",
    "* **costs** Dict[str, int]: the costs for each action.\n",
    "\n",
    "**returns** int - The path cost."
   ]
  },
  {
   "cell_type": "code",
   "execution_count": 18,
   "metadata": {},
   "outputs": [],
   "source": [
    "# Write a dictionary that maps the MOVES to the corresponding symbols\n",
    "MOVE_SYMBOLS = { (0, -1): '⏪', (0, 1): '⏩', (-1, 0): '⏫', (1, 0): '⏬' }"
   ]
  },
  {
   "cell_type": "code",
   "execution_count": 19,
   "metadata": {},
   "outputs": [],
   "source": [
    "def pretty_print_path(world: List[List[str]], path: List[Tuple[int, int]], start: Tuple[int, int], goal: Tuple[int, int], costs: Dict[str, int]) -> int:\n",
    "    # Copy the world so we don't modify the original.\n",
    "    new_world = [list(row) for row in world]\n",
    "\n",
    "    # Initialize total cost\n",
    "    total_cost = 0\n",
    "\n",
    "    # Replace symbols on the path.\n",
    "    for i in range(1, len(path)):\n",
    "        dx, dy = path[i][0] - path[i-1][0], path[i][1] - path[i-1][1]\n",
    "        new_world[path[i-1][0]][path[i-1][1]] = MOVE_SYMBOLS[(dx, dy)]\n",
    "        # Add cost to total cost\n",
    "        total_cost += costs[world[path[i-1][0]][path[i-1][1]]]\n",
    "\n",
    "    # Mark the goal with the present symbol\n",
    "    new_world[goal[0]][goal[1]] = '🎁'\n",
    "\n",
    "    # Print the new world with the path\n",
    "    for row in new_world:\n",
    "        print(''.join(row))\n",
    "\n",
    "    return total_cost"
   ]
  },
  {
   "attachments": {},
   "cell_type": "markdown",
   "metadata": {},
   "source": [
    "### Unit test for `pretty_print_path`"
   ]
  },
  {
   "cell_type": "code",
   "execution_count": 20,
   "metadata": {},
   "outputs": [
    {
     "name": "stdout",
     "output_type": "stream",
     "text": [
      "⏬🌲🌲🌲🌲🌲🌲\n",
      "⏬🌲🌲🌲🌲🌲🌲\n",
      "⏬🌲🌲🌲🌲🌲🌲\n",
      "⏩⏩⏩⏩⏩⏩⏬\n",
      "🌲🌲🌲🌲🌲🌲⏬\n",
      "🌲🌲🌲🌲🌲🌲⏬\n",
      "🌲🌲🌲🌲🌲🌲🎁\n",
      "All assertions passed!\n"
     ]
    }
   ],
   "source": [
    "expected_path_cost = 12\n",
    "test_start = (0, 0)\n",
    "test_goal = (len(test_world[0]) - 1, len(test_world) - 1)\n",
    "test_path = a_star_search(test_world, test_start, test_goal, COSTS, MOVES, heuristic)\n",
    "test_path_cost = pretty_print_path(test_world, test_path, test_start, test_goal, COSTS)\n",
    "assert test_path_cost == expected_path_cost\n",
    "\n",
    "print('All assertions passed!')"
   ]
  },
  {
   "attachments": {},
   "cell_type": "markdown",
   "metadata": {},
   "source": [
    "## Journey 1. \n",
    "\n",
    "Execute `a_star_search` and `pretty_print_path` for the `small_world`."
   ]
  },
  {
   "cell_type": "code",
   "execution_count": 21,
   "metadata": {},
   "outputs": [
    {
     "name": "stdout",
     "output_type": "stream",
     "text": [
      "⏩⏩⏩⏬🌲🗻🌲🐊🌾🌲\n",
      "🐊🗻🪨⏬🐊🗻🌲🌾🌾🌾\n",
      "🌾🌲🐊⏬🐊🪨🗻🗻🪨🪨\n",
      "🐊🪨🐊⏩⏬🗻🐊🌲🗻🌲\n",
      "🐊🪨🌾🐊⏩⏬🗻🗻🐊🪨\n",
      "🗻🐊🗻🌾🐊⏩⏩⏩⏬🌾\n",
      "🌾🌲🌾🗻🌲🗻🌲🐊⏬🗻\n",
      "🗻🗻🐊🌾🗻🗻🗻🌾⏬🌾\n",
      "🌾🗻🌲🌾🐊🌾🌲🐊⏬🐊\n",
      "🌲🪨🗻🌲🪨🐊🗻🌾⏩🎁\n",
      "total path cost: 52\n",
      "[(0, 0), (0, 1), (0, 2), (0, 3), (1, 3), (2, 3), (3, 3), (3, 4), (4, 4), (4, 5), (5, 5), (5, 6), (5, 7), (5, 8), (6, 8), (7, 8), (8, 8), (9, 8), (9, 9)]\n"
     ]
    }
   ],
   "source": [
    "small_start = (0, 0)\n",
    "small_goal = (len(small_world[0]) - 1, len(small_world) - 1)\n",
    "small_path = a_star_search(small_world, small_start, small_goal, COSTS, MOVES, heuristic)\n",
    "small_path_cost = pretty_print_path(small_world, small_path, small_start, small_goal, COSTS)\n",
    "print(f\"total path cost: {small_path_cost}\")\n",
    "print(small_path)"
   ]
  },
  {
   "attachments": {},
   "cell_type": "markdown",
   "metadata": {},
   "source": [
    "## Journey 2.\n",
    "\n",
    "Execute `a_star_search` and `print_path` for the `large_world`"
   ]
  },
  {
   "cell_type": "code",
   "execution_count": 22,
   "metadata": {},
   "outputs": [
    {
     "name": "stdout",
     "output_type": "stream",
     "text": [
      "⏬🗻🗻🐊🗻🐊🌾🗻🐊🪨🌲🪨🗻🌾🐊🐊🌲🌲🪨🌲🪨🗻🌲🌲🗻\n",
      "⏩⏬🌲🌲🪨🪨🐊🪨🌾🌲🌲🐊🗻🗻🪨🌾🌾🌾🌲🐊🗻🌲🌲🌾🐊\n",
      "🗻⏬🗻🐊🐊🌾🪨🌲🌲🐊🌾🐊🗻🌾🌾🐊🐊🌲🪨🌾🗻🌲🌲🌲🌲\n",
      "🪨⏩⏩⏩⏩⏩⏩⏬🗻🐊🌾🪨🌲🐊🐊🌲🌲🌲🪨🗻🗻🪨🗻🗻🌲\n",
      "🌲🪨🐊🌲🌾🗻🌲⏩⏩⏩⏬🪨🌾🪨🌾🪨🪨🐊🪨🗻🐊🌲🐊🪨🪨\n",
      "🪨🪨🌾🌾🌲🐊🗻🗻🐊🌲⏩⏩⏩⏬🪨🗻🌾🗻🗻🪨🪨🌲🗻🗻🗻\n",
      "🐊🌾🌾🗻🪨🐊🪨🌾🐊🪨🗻🌾🗻⏬🗻🪨🌾🪨🗻🌲🌾🌲🌾🌾🗻\n",
      "🌲🌾🌲🗻🐊🌾🪨🗻🗻🗻🪨🐊🌲⏩⏬🐊🐊🌲🗻🗻🌲🌲🪨🐊🗻\n",
      "🗻🌾🗻🌲🌾🐊🪨🗻🐊🐊🐊🌾🪨🪨⏩⏩⏬🗻🪨🗻🐊🌲🗻🌲🐊\n",
      "🪨🪨🗻🐊🐊🪨🗻🌾🪨🐊🗻🌲🪨🪨🌾🌲⏬🗻🗻🐊🌲🪨🌾🪨🌾\n",
      "🐊🐊🌾🌲🌲🗻🗻🌲🪨🐊🌾🌲🪨🪨🌾🌲⏩⏩⏬🐊🌾🪨🪨🐊🌾\n",
      "🌾🌲🪨🐊🐊🪨🌾🗻🪨🐊🌾🌲🐊🐊🌾🪨🐊🐊⏬🐊🌾🌲🌾🐊🌲\n",
      "🌲🪨🐊🗻🗻🪨🗻🗻🌲🌾🌾🐊🐊🗻🌲🪨🐊🪨⏩⏬🐊🗻🐊🗻🌾\n",
      "🌲🌾🪨🗻🌾🪨🌲🪨🌾🪨🪨🗻🌲🌾🪨🪨🪨🐊🐊⏩⏬🐊🗻🌲🗻\n",
      "🐊🐊🪨🐊🌲🌾🪨🌾🪨🐊🗻🐊🗻🌲🌲🗻🌾🗻🐊🗻⏩⏬🗻🪨🪨\n",
      "🐊🌾🪨🌲🌾🗻🌾🪨🪨🪨🗻🪨🪨🗻🌲🪨🪨🐊🌾🪨🗻⏬🌾🐊🪨\n",
      "🌾🐊🪨🐊🌾🐊🐊🐊🗻🌾🗻🗻🌲🗻🪨🐊🌲🐊🌲🐊🗻⏬🗻🌲🌾\n",
      "🌲🌾🌲🗻🌾🪨🪨🗻🌾🗻🗻🗻🗻🗻🐊🐊🌾🌲🌲⏬⏪⏪🌾🌲🗻\n",
      "🌲🌲🗻🐊🪨🌲🗻🪨🪨🪨🌾🌲🐊🪨🐊🐊🌲🗻🌲⏬🪨🗻🗻🗻🌲\n",
      "🌲🗻🐊🗻🌲🗻🌲🌲🪨🪨🪨🌾🗻🌲🗻🐊🐊🐊🐊⏬🌲🗻🗻🐊🗻\n",
      "🌲🗻🪨🗻🌾🌾🗻🪨🌾🌲🌲🪨🌾🐊🐊🪨🌲🪨🌾⏬🗻🌾🗻🌲🌾\n",
      "🐊🪨🐊🪨🗻🪨🪨🪨🌲🐊🪨🐊🪨🌲🪨🌲🐊🌲🪨⏬🗻🌲🗻🌾🪨\n",
      "🌲🗻🌾🗻🪨🗻🐊🪨🌾🪨🗻🌲🪨🌲🌲🌾🗻🐊🌲⏩⏬🗻🌾🌲🐊\n",
      "🪨🪨🐊🗻🐊🌾🪨🗻🪨🪨🌾🌲🪨🐊🪨🗻🌲🪨🌲🌲⏩⏩⏬🗻🌲\n",
      "🌲🌲🗻🪨🪨🪨🪨🌲🐊🪨🗻🌲🌾🪨🗻🗻🗻🗻🪨🗻🐊🗻⏩⏩🎁\n",
      "total path cost: 148\n",
      "[(0, 0), (1, 0), (1, 1), (2, 1), (3, 1), (3, 2), (3, 3), (3, 4), (3, 5), (3, 6), (3, 7), (4, 7), (4, 8), (4, 9), (4, 10), (5, 10), (5, 11), (5, 12), (5, 13), (6, 13), (7, 13), (7, 14), (8, 14), (8, 15), (8, 16), (9, 16), (10, 16), (10, 17), (10, 18), (11, 18), (12, 18), (12, 19), (13, 19), (13, 20), (14, 20), (14, 21), (15, 21), (16, 21), (17, 21), (17, 20), (17, 19), (18, 19), (19, 19), (20, 19), (21, 19), (22, 19), (22, 20), (23, 20), (23, 21), (23, 22), (24, 22), (24, 23), (24, 24)]\n"
     ]
    }
   ],
   "source": [
    "large_start = (0, 0)\n",
    "large_goal = (len(large_world[0]) - 1, len(large_world) - 1)\n",
    "large_path = a_star_search(large_world, large_start, large_goal, COSTS, MOVES, heuristic)\n",
    "large_path_cost = pretty_print_path(large_world, large_path, large_start, large_goal, COSTS)\n",
    "print(f\"total path cost: {large_path_cost}\")\n",
    "print(large_path)"
   ]
  },
  {
   "cell_type": "markdown",
   "metadata": {},
   "source": [
    "##### Thank You for Exploring This Notebook!\n",
    "\n",
    "I hope you found this journey through the code as engaging and insightful as I did in creating it. Your curiosity is what drives innovation, and I encourage you to take it a step further.\n",
    "\n",
    "Feel free to play around with this code! Why not try changing the shape of the world or selecting new starting and goal points? Instead of the default starting point in the top left corner or the goal in the bottom right corner, you can experiment with different coordinates to see how the algorithm adapts.\n",
    "\n",
    "Your creativity and experimentation not only enhance your understanding but also open new doors for exploration and innovation. Who knows? You might stumble upon a novel approach or insight that could contribute to the field.\n",
    "\n",
    "If you have any thoughts, questions, or discoveries, please don't hesitate to reach out. Happy coding, and keep pushing the boundaries of what's possible! "
   ]
  }
 ],
 "metadata": {
  "kernelspec": {
   "display_name": "Python 3",
   "language": "python",
   "name": "python3"
  },
  "language_info": {
   "codemirror_mode": {
    "name": "ipython",
    "version": 3
   },
   "file_extension": ".py",
   "mimetype": "text/x-python",
   "name": "python",
   "nbconvert_exporter": "python",
   "pygments_lexer": "ipython3",
   "version": "3.10.12"
  },
  "toc": {
   "colors": {
    "hover_highlight": "#DAA520",
    "navigate_num": "#000000",
    "navigate_text": "#333333",
    "running_highlight": "#FF0000",
    "selected_highlight": "#FFD700",
    "sidebar_border": "#EEEEEE",
    "wrapper_background": "#FFFFFF"
   },
   "moveMenuLeft": true,
   "nav_menu": {
    "height": "192px",
    "width": "252px"
   },
   "navigate_menu": true,
   "number_sections": true,
   "sideBar": true,
   "threshold": 4,
   "toc_cell": false,
   "toc_section_display": "block",
   "toc_window_display": false,
   "widenNotebook": false
  }
 },
 "nbformat": 4,
 "nbformat_minor": 4
}
