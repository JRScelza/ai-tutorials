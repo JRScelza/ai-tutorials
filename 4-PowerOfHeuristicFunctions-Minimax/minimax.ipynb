{
 "cells": [
  {
   "cell_type": "markdown",
   "metadata": {},
   "source": [
    "<p style=\"font-size: 18px;\">\n",
    "  This is the accompanying code for the post titled \"Unlocking the Power of Heuristic Functions in Minimax Algorithms: A Step-by-Step Guide to Creating Smarter Game AI with Enhanced Decision-Making\"<br>\n",
    "  You can find it <a href=\"https://pureai.substack.com/p/unlocking-the-power-of-heuristic-functions\">here</a>.<br>\n",
    "  Published: September 16, 2023<br>\n",
    "  <a href=\"https://pureai.substack.com\">https://pureai.substack.com</a>\n",
    "</p>"
   ]
  },
  {
   "cell_type": "markdown",
   "metadata": {},
   "source": [
    "Welcome to this Jupyter notebook! If you're new to Python or don't have it installed on your system, don't worry; you can still follow along and explore the code.\n",
    "\n",
    "Here's a quick guide to getting started:\n",
    "\n",
    "- Using an Online Platform: You can run this notebook in a web browser using platforms like Google Colab or Binder. These services offer free access to Jupyter notebooks and don't require any installation.\n",
    "- Installing Python Locally: If you'd prefer to run this notebook on your own machine, you'll need to install Python. A popular distribution for scientific computing is Anaconda, which includes Python, Jupyter, and other useful tools.\n",
    "  - Download Anaconda from [here](https://www.anaconda.com/download).\n",
    "  - Follow the installation instructions for your operating system.\n",
    "  - Launch Jupyter Notebook from Anaconda Navigator or by typing jupyter notebook in your command line or terminal.\n",
    "- Opening the Notebook: Once you have Jupyter running, navigate to the location of this notebook file (.ipynb) and click on it to open.\n",
    "- Running the Code: You can run each cell in the notebook by selecting it and pressing Shift + Enter. Feel free to modify the code and experiment with it.\n",
    "- Need More Help?: If you're new to Python or Jupyter notebooks, you might find these resources helpful:\n",
    "  - [Python.org's Beginner's Guide](https://docs.python.org/3/tutorial/index.html)\n",
    "  - [Jupyter Notebook Basics](https://jupyter-notebook.readthedocs.io/en/stable/examples/Notebook/Notebook%20Basics.html)\n",
    "\n",
    "Happy coding, and enjoy exploring the fascinating world of Adversarial Search Algorithms!"
   ]
  },
  {
   "cell_type": "code",
   "execution_count": 1,
   "metadata": {},
   "outputs": [
    {
     "name": "stdout",
     "output_type": "stream",
     "text": [
      "The version of Python used is: 3.10.12\n"
     ]
    }
   ],
   "source": [
    "# A small readme\n",
    "from platform import python_version\n",
    "print(f\"The version of Python used is: {python_version()}\")\n",
    "\n",
    "import random\n",
    "from typing import List, Tuple, Union, Any, Dict, Callable, Set, Optional\n",
    "from numpy import ndarray"
   ]
  },
  {
   "cell_type": "markdown",
   "metadata": {},
   "source": [
    "## Alpha-Beta Minimax Algorithm and Tic-Tac-Toe: An In-Depth Exploration\n",
    "\n",
    "### Introduction\n",
    "\n",
    "Welcome to this Jupyter Notebook where we will be exploring not just the Minimax algorithm but also its optimized version—Alpha-Beta Pruning—in the context of game theory and adversarial search. The objectives of this notebook are:\n",
    "\n",
    "1. To Understand Alpha-Beta Minimax: We'll dissect both the Minimax algorithm and its more efficient variant, Alpha-Beta Pruning. We'll look at their conceptual foundations, principles, and pseudocode representations.\n",
    "1. To Apply Alpha-Beta Minimax: We'll implement both algorithms in Python and integrate them into a tic-tac-toe game, allowing you to play against an enhanced AI opponent.\n",
    "\n",
    "### Why is Alpha-Beta Minimax Important?\n",
    "\n",
    "The Minimax algorithm, along with its optimized counterpart Alpha-Beta Pruning, is pivotal in the field of artificial intelligence, particularly in game theory. These algorithms are widely used in two-player, turn-based games like chess, tic-tac-toe, and Go. They aid in decision-making by optimizing the worst-case scenario for a player, thus identifying the best possible moves. Alpha-Beta Pruning takes this a step further by reducing the number of nodes evaluated in the search tree, making the decision process faster and more efficient.\n",
    "\n",
    "These techniques have applications beyond just games; they are also relevant in areas such as economics, politics, and negotiation where adversarial or competitive interactions can be modeled.\n",
    "\n",
    "### What Will You Gain from This Notebook?\n",
    "- Conceptual Understanding: You'll grasp the theoretical foundations of both the Minimax and Alpha-Beta Pruning algorithms and understand their significance in game theory and AI.\n",
    "- Practical Skills: By implementing these algorithms in Python, you'll be able to see the theories in action. We'll build a tic-tac-toe game where you can experience firsthand the effectiveness of these algorithms.\n",
    "- AI in Gaming: Gain insights into how intelligent behavior in games can be generated through relatively simple but powerful algorithms.\n",
    "\n",
    "Let's dive in and explore these fascinating topics!"
   ]
  },
  {
   "cell_type": "markdown",
   "metadata": {},
   "source": [
    "We first start by importing the required Library, which is numpy."
   ]
  },
  {
   "cell_type": "code",
   "execution_count": 2,
   "metadata": {},
   "outputs": [],
   "source": [
    "import numpy as np"
   ]
  },
  {
   "cell_type": "markdown",
   "metadata": {},
   "source": [
    "And define a function that will print our simple board."
   ]
  },
  {
   "cell_type": "code",
   "execution_count": 3,
   "metadata": {},
   "outputs": [],
   "source": [
    "# Function to print the Tic-Tac-Toe board\n",
    "def print_board(board):\n",
    "    for row in board:\n",
    "        print(\" | \".join(row))"
   ]
  },
  {
   "cell_type": "markdown",
   "metadata": {},
   "source": [
    "### check_winner\n",
    "\n",
    "The check_winner function checks if a player with a given sign (usually 'X' or 'O') has won a tic-tac-toe game. The function checks for three winning conditions:\n",
    "\n",
    "All elements in a row are the same as the provided sign.\n",
    "All elements in a column are the same as the provided sign.\n",
    "All elements in a diagonal are the same as the provided sign.\n",
    "\n",
    "* **board** (np.ndarray): A 2D NumPy array representing the tic-tac-toe board.\n",
    "* **sign** (str): A string representing the sign of the player ('X' or 'O').\n",
    "\n",
    "**returns** bool: True if the player with the given sign has won, otherwise False."
   ]
  },
  {
   "cell_type": "code",
   "execution_count": 4,
   "metadata": {},
   "outputs": [],
   "source": [
    "# Function to check if someone has won\n",
    "def check_winner(board: np.ndarray, sign: str) -> bool:\n",
    "    for row in board:\n",
    "        if np.all(row == sign):\n",
    "            return True\n",
    "    for col in board.T:\n",
    "        if np.all(col == sign):\n",
    "            return True\n",
    "    if np.all(np.diag(board) == sign) or np.all(np.diag(np.fliplr(board)) == sign):\n",
    "        return True\n",
    "    return False"
   ]
  },
  {
   "cell_type": "markdown",
   "metadata": {},
   "source": [
    "### unit test: check_winner"
   ]
  },
  {
   "cell_type": "code",
   "execution_count": 5,
   "metadata": {},
   "outputs": [
    {
     "name": "stdout",
     "output_type": "stream",
     "text": [
      "All test cases pass!\n"
     ]
    }
   ],
   "source": [
    "# Initialize a sample board with 'X' winning by row\n",
    "board1 = np.array([['X', 'X', 'X'],\n",
    "                   [' ', ' ', ' '],\n",
    "                   [' ', ' ', ' ']])\n",
    "\n",
    "# Initialize another sample board with 'O' winning by diagonal\n",
    "board2 = np.array([['O', ' ', ' '],\n",
    "                   [' ', 'O', ' '],\n",
    "                   [' ', ' ', 'O']])\n",
    "\n",
    "# Initialize another sample board with no winner\n",
    "board3 = np.array([['X', 'O', ' '],\n",
    "                   [' ', 'O', 'X'],\n",
    "                   [' ', ' ', 'O']])\n",
    "\n",
    "assert check_winner(board1, 'X') == True, \"Test Case 1 Failed\"\n",
    "assert check_winner(board2, 'O') == True, \"Test Case 2 Failed\"\n",
    "assert check_winner(board3, 'X') == False, \"Test Case 3 Failed\"\n",
    "assert check_winner(board3, 'O') == False, \"Test Case 4 Failed\"\n",
    "\n",
    "print(\"All test cases pass!\")"
   ]
  },
  {
   "cell_type": "markdown",
   "metadata": {},
   "source": [
    "### evaluate_row_or_col\n",
    "\n",
    "The evaluate_row_or_col function evaluates a row, column, or diagonal in a Tic-Tac-Toe board. It updates a dictionary with counts of different board situations, like two 'X's and an empty cell (num_x2s), two 'O's and an empty cell (num_o2s), etc. The function is used for evaluating the state of the Tic-Tac-Toe board and determining the best move for a player.\n",
    "\n",
    "* **array** (np.ndarray): A 1-dimensional NumPy array containing the row, column, or diagonal to evaluate. Expected values in the array are 0 for empty, 1 for 'X', and 2 for 'O'.\n",
    "* **counts** (dict): A dictionary that will be updated with the counts of specific situations in the Tic-Tac-Toe board. Expected keys are num_x2s, num_x1s, num_o2s, and num_o1s.\n",
    "* **diagonal** (bool = False): A boolean flag indicating whether the input array represents a diagonal. The weight for counting is doubled if this is True. Default is False.\n",
    "\n",
    "**returns** None: The function returns None as it updates the counts dictionary in-place."
   ]
  },
  {
   "cell_type": "code",
   "execution_count": 6,
   "metadata": {},
   "outputs": [],
   "source": [
    "def evaluate_row_or_col(array: np.ndarray, counts: dict, diagonal: bool = False) -> None:\n",
    "    num_0s = np.sum(array == 0)\n",
    "    num_1s = np.sum(array == 1)\n",
    "    num_2s = np.sum(array == 2)\n",
    "\n",
    "    weight = 2 if diagonal else 1\n",
    "\n",
    "    if num_1s == 2 and num_0s == 1:\n",
    "        counts[\"num_x2s\"] += weight\n",
    "    elif num_1s == 1 and num_0s == 2:\n",
    "        counts[\"num_x1s\"] += weight\n",
    "\n",
    "    if num_2s == 2 and num_0s == 1:\n",
    "        counts[\"num_o2s\"] += weight\n",
    "    elif num_2s == 1 and num_0s == 2:\n",
    "        counts[\"num_o1s\"] += weight"
   ]
  },
  {
   "cell_type": "markdown",
   "metadata": {},
   "source": [
    "### unit test: evaluate_row_or_col"
   ]
  },
  {
   "cell_type": "code",
   "execution_count": 7,
   "metadata": {},
   "outputs": [],
   "source": [
    "# Initialize counts dictionary and array\n",
    "counts = {\"num_x2s\": 0, \"num_x1s\": 0, \"num_o2s\": 0, \"num_o1s\": 0}\n",
    "array1 = np.array([1, 1, 0])\n",
    "array2 = np.array([0, 2, 0])\n",
    "array3 = np.array([2, 2, 0])\n",
    "\n",
    "# Test the function\n",
    "evaluate_row_or_col(array1, counts)\n",
    "evaluate_row_or_col(array2, counts)\n",
    "evaluate_row_or_col(array3, counts, diagonal=True)\n",
    "\n",
    "# Check the results\n",
    "assert counts[\"num_x2s\"] == 1, f'Expected 1, got {counts[\"num_x2s\"]}'\n",
    "assert counts[\"num_o1s\"] == 1, f'Expected 1, got {counts[\"num_o1s\"]}'\n",
    "assert counts[\"num_o2s\"] == 2, f'Expected 2, got {counts[\"num_o2s\"]}'"
   ]
  },
  {
   "cell_type": "markdown",
   "metadata": {},
   "source": [
    "### evaluate_board_state\n",
    "\n",
    "This method evaluates the state of a Tic-Tac-Toe board by checking for patterns in rows, columns, and diagonals. The function uses a numerical representation for 'X' and 'O' to analyze the board state and returns a score based on the number of two-in-a-row and one-in-a-row instances for each player ('X' and 'O').\n",
    "\n",
    "* **board** (np.ndarray): A 2D NumPy array representing the state of the Tic-Tac-Toe board. The array contains 'X', 'O', or an empty string to represent the state of each cell on the board.\n",
    "\n",
    "**returns** (int): A score that signifies the board state. A higher positive score implies that player 'X' is in a better position, while a negative score implies that player 'O' is in a better position."
   ]
  },
  {
   "cell_type": "code",
   "execution_count": 8,
   "metadata": {},
   "outputs": [],
   "source": [
    "def evaluate_board_state(board: np.ndarray) -> int:\n",
    "    counts = {\"num_x2s\": 0, \"num_x1s\": 0, \"num_o2s\": 0, \"num_o1s\": 0}\n",
    "    num_board = np.where(board == 'X', 1, np.where(board == 'O', 2, 0))\n",
    "    \n",
    "    diagonals = [np.diag(num_board), np.diag(np.fliplr(num_board))]\n",
    "    for diag in diagonals:\n",
    "        evaluate_row_or_col(diag, counts, diagonal=True)\n",
    "    \n",
    "    for row in num_board:\n",
    "        evaluate_row_or_col(row, counts)\n",
    "        \n",
    "    for col in num_board.T:\n",
    "        evaluate_row_or_col(col, counts)\n",
    "\n",
    "    return 3 * counts[\"num_x2s\"] + counts[\"num_x1s\"] - (3 * counts[\"num_o2s\"] + counts[\"num_o1s\"])"
   ]
  },
  {
   "cell_type": "markdown",
   "metadata": {},
   "source": [
    "### unit test: evaluate_board_state"
   ]
  },
  {
   "cell_type": "code",
   "execution_count": 9,
   "metadata": {},
   "outputs": [],
   "source": [
    "# Test cases\n",
    "board1 = np.array([['X', 'O', 'X'],\n",
    "                   ['O', 'X', 'O'],\n",
    "                   ['X', 'O', 'X']])\n",
    "\n",
    "board2 = np.array([['X', 'O', 'X'],\n",
    "                   ['O', 'X', 'O'],\n",
    "                   ['O', 'X', 'O']])\n",
    "\n",
    "board3 = np.array([['X', ' ', ' '],\n",
    "                   ['O', 'X', 'O'],\n",
    "                   ['O', 'O', 'X']])\n",
    "\n",
    "assert evaluate_board_state(board1) == 0 \n",
    "assert evaluate_board_state(board2) == 0\n",
    "assert evaluate_board_state(board3) == 1"
   ]
  },
  {
   "cell_type": "markdown",
   "metadata": {},
   "source": [
    "### minimax_with_heuristic\n",
    "\n",
    "The minimax_with_heuristic function is an implementation of the minimax algorithm with alpha-beta pruning for optimizing the search space in a Tic-Tac-Toe game. The function determines the best possible move for the maximizing or minimizing player by searching the game tree and returning a score.\n",
    "\n",
    "* **board** (ndarray): The game board represented as a NumPy array.\n",
    "* **depth** (int): The current depth in the game tree.\n",
    "* **alpha** (float): The best score achievable by any preceding nodes on the path for the maximizing player.\n",
    "* **beta** (float): The lowest score achievable by any preceding nodes on the path for the minimizing player.\n",
    "* **maximizing** (bool): A boolean variable indicating whether the current player is maximizing or not.\n",
    "\n",
    "**returns** (int): an integer score representing the evaluation of the board state. Positive score indicates favor towards 'X', negative towards 'O', and zero for a draw."
   ]
  },
  {
   "cell_type": "code",
   "execution_count": 10,
   "metadata": {},
   "outputs": [],
   "source": [
    "def minimax_with_heuristic(board: np.ndarray, depth: int, alpha: float, beta: float, maximizing: bool) -> int:\n",
    "    if check_winner(board, 'X'):\n",
    "        return 10 - depth\n",
    "    if check_winner(board, 'O'):\n",
    "        return -10 + depth\n",
    "    if np.all(board != ' '):\n",
    "        return 0\n",
    "\n",
    "    heuristic_value = evaluate_board_state(board)\n",
    "    \n",
    "    if maximizing:\n",
    "        max_val = heuristic_value\n",
    "        for i in range(3):\n",
    "            for j in range(3):\n",
    "                if board[i, j] == ' ':\n",
    "                    board[i, j] = 'X'\n",
    "                    value = minimax_with_heuristic(board, depth + 1, alpha, beta, False)\n",
    "                    board[i, j] = ' '\n",
    "                    max_val = max(max_val, value + heuristic_value)\n",
    "                    alpha = max(alpha, value)\n",
    "                    if beta <= alpha:\n",
    "                        return max_val\n",
    "        return max_val\n",
    "    else:\n",
    "        min_val = heuristic_value\n",
    "        for i in range(3):\n",
    "            for j in range(3):\n",
    "                if board[i, j] == ' ':\n",
    "                    board[i, j] = 'O'\n",
    "                    value = minimax_with_heuristic(board, depth + 1, alpha, beta, True)\n",
    "                    board[i, j] = ' '\n",
    "                    min_val = min(min_val, value - heuristic_value)\n",
    "                    beta = min(beta, value)\n",
    "                    if beta <= alpha:\n",
    "                        return min_val\n",
    "        return min_val"
   ]
  },
  {
   "cell_type": "markdown",
   "metadata": {},
   "source": [
    "### best_move_with_heuristic\n",
    "\n",
    "The best_move_with_heuristic function is designed to find the best move for an AI player in a Tic-Tac-Toe game using the minimax algorithm. The function takes the current state of the Tic-Tac-Toe board as an input and returns the best move for the AI ('X') to make.\n",
    "\n",
    "* **board** (np.ndarray): A 2D NumPy array representing the current state of the Tic-Tac-Toe board. The array should be of shape (3, 3) and contain either ' ', 'X', or 'O' to represent empty, AI ('X'), and human ('O') moves, respectively.\n",
    "\n",
    "**returns** (Union[None, Tuple[int, int]]): a tuple (i, j) indicating the best move for the AI in the form of row and column indices. If there are no valid moves left (i.e., the board is full), it returns None."
   ]
  },
  {
   "cell_type": "code",
   "execution_count": 11,
   "metadata": {},
   "outputs": [],
   "source": [
    "def best_move_with_heuristic(board: np.ndarray) -> Optional[Tuple[int, int]]:\n",
    "    moves = []\n",
    "\n",
    "    for i in range(3):\n",
    "        for j in range(3):\n",
    "            if board[i, j] == ' ':\n",
    "                board[i, j] = 'O'\n",
    "                if check_winner(board, 'O'):\n",
    "                    return (i, j)\n",
    "                board[i, j] = ' '\n",
    "\n",
    "    for i in range(3):\n",
    "        for j in range(3):\n",
    "            if board[i, j] == ' ':\n",
    "                board[i, j] = 'X'\n",
    "                minimax_value = minimax_with_heuristic(board, 0, -np.inf, np.inf, False)\n",
    "                heuristic_value = evaluate_board_state(board)\n",
    "                board[i, j] = ' '\n",
    "                moves.append(((i, j), minimax_value, heuristic_value))\n",
    "\n",
    "    moves.sort(key=lambda x: (x[1], x[2]), reverse=True)\n",
    "\n",
    "    for move, _, _ in moves:\n",
    "        if board[move] == ' ':\n",
    "            return move"
   ]
  },
  {
   "cell_type": "markdown",
   "metadata": {},
   "source": [
    "### unit test: best_move_with_heuristic"
   ]
  },
  {
   "cell_type": "code",
   "execution_count": 12,
   "metadata": {},
   "outputs": [],
   "source": [
    "test_board = np.array([\n",
    "    ['X', 'O', ' '],\n",
    "    [' ', 'X', 'O'],\n",
    "    ['O', ' ', 'X']\n",
    "])\n",
    "\n",
    "move = best_move_with_heuristic(test_board)\n",
    "assert move == (0, 2), \"Test failed!\""
   ]
  },
  {
   "cell_type": "code",
   "execution_count": 13,
   "metadata": {},
   "outputs": [],
   "source": [
    "test_board = np.array([\n",
    "    ['X', 'O', ' '],\n",
    "    [' ', 'X', 'O'],\n",
    "    [' ', ' ', ' ']\n",
    "])\n",
    "\n",
    "move = best_move_with_heuristic(test_board)\n",
    "assert move == (2, 2), \"Test failed!\""
   ]
  },
  {
   "cell_type": "markdown",
   "metadata": {},
   "source": [
    "### main game loop\n",
    "\n",
    "The following is for a simple turn-based game where a human player competes against an AI opponent. The game runs in a continuous loop until a winner is identified or the game is a draw. The board is represented as a 2D array, and as a zero-based index.\n",
    "\n",
    "To play, run the notebook and enter your desired location in the form of row and column indices (for example, type: 0 1 to place a 'O' in the first row and second column). The game will then display the updated board and the AI's move."
   ]
  },
  {
   "cell_type": "code",
   "execution_count": 14,
   "metadata": {},
   "outputs": [
    {
     "name": "stdout",
     "output_type": "stream",
     "text": [
      "Your move:\n",
      "  |   |  \n",
      "  | O |  \n",
      "  |   |  \n",
      "AI's move:\n",
      "X |   |  \n",
      "  | O |  \n",
      "  |   |  \n",
      "Your move:\n",
      "X |   | O\n",
      "  | O |  \n",
      "  |   |  \n",
      "AI's move:\n",
      "X |   | O\n",
      "  | O |  \n",
      "X |   |  \n",
      "Your move:\n",
      "X |   | O\n",
      "  | O | O\n",
      "X |   |  \n",
      "AI's move:\n",
      "X |   | O\n",
      "X | O | O\n",
      "X |   |  \n",
      "AI wins!\n"
     ]
    }
   ],
   "source": [
    "# Initialize the board\n",
    "board = np.full((3, 3), ' ')\n",
    "\n",
    "while True:\n",
    "    if np.all(board != ' '):\n",
    "        print(\"It's a draw!\")\n",
    "        break\n",
    "\n",
    "    # Human's turn\n",
    "    row, col = map(int, input(\"Your move (row col): \").split())\n",
    "    board[row, col] = 'O'\n",
    "    print(\"Your move:\")\n",
    "    print_board(board)\n",
    "    \n",
    "    if check_winner(board, 'O'):\n",
    "        print(\"You win!\")\n",
    "        break\n",
    "\n",
    "    # AI's turn\n",
    "    move = best_move_with_heuristic(board)\n",
    "    board[move] = 'X'\n",
    "    print(\"AI's move:\")\n",
    "    print_board(board)\n",
    "    \n",
    "    if check_winner(board, 'X'):\n",
    "        print(\"AI wins!\")\n",
    "        break"
   ]
  }
 ],
 "metadata": {
  "kernelspec": {
   "display_name": "Python 3",
   "language": "python",
   "name": "python3"
  },
  "language_info": {
   "codemirror_mode": {
    "name": "ipython",
    "version": 3
   },
   "file_extension": ".py",
   "mimetype": "text/x-python",
   "name": "python",
   "nbconvert_exporter": "python",
   "pygments_lexer": "ipython3",
   "version": "3.10.12"
  },
  "orig_nbformat": 4
 },
 "nbformat": 4,
 "nbformat_minor": 2
}
