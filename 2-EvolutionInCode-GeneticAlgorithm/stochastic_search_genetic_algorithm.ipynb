{
 "cells": [
  {
   "attachments": {},
   "cell_type": "markdown",
   "metadata": {},
   "source": [
    "<p style=\"font-size: 18px;\">\n",
    "  This is the accompanying code for the post titled \"Evolution in Code: Unraveling Genetic Algorithms with Python\"<br>\n",
    "  You can find it <a href=\"https://pureai.substack.com/p/evolution-in-code\">here</a>.<br>\n",
    "  Published: August 19, 2023<br>\n",
    "  <a href=\"https://pureai.substack.com\">https://pureai.substack.com</a>\n",
    "</p>"
   ]
  },
  {
   "cell_type": "markdown",
   "metadata": {},
   "source": [
    "Welcome to this Jupyter notebook! If you're new to Python or don't have it installed on your system, don't worry; you can still follow along and explore the code.\n",
    "\n",
    "Here's a quick guide to getting started:\n",
    "\n",
    "- Using an Online Platform: You can run this notebook in a web browser using platforms like Google Colab or Binder. These services offer free access to Jupyter notebooks and don't require any installation.\n",
    "- Installing Python Locally: If you'd prefer to run this notebook on your own machine, you'll need to install Python. A popular distribution for scientific computing is Anaconda, which includes Python, Jupyter, and other useful tools.\n",
    "  - Download Anaconda from [here](https://www.anaconda.com/download).\n",
    "  - Follow the installation instructions for your operating system.\n",
    "  - Launch Jupyter Notebook from Anaconda Navigator or by typing jupyter notebook in your command line or terminal.\n",
    "- Opening the Notebook: Once you have Jupyter running, navigate to the location of this notebook file (.ipynb) and click on it to open.\n",
    "- Running the Code: You can run each cell in the notebook by selecting it and pressing Shift + Enter. Feel free to modify the code and experiment with it.\n",
    "- Need More Help?: If you're new to Python or Jupyter notebooks, you might find these resources helpful:\n",
    "  - [Python.org's Beginner's Guide](https://docs.python.org/3/tutorial/index.html)\n",
    "  - [Jupyter Notebook Basics](https://jupyter-notebook.readthedocs.io/en/stable/examples/Notebook/Notebook%20Basics.html)\n",
    "\n",
    "Happy coding, and enjoy exploring the fascinating world of Genetic Algorithms!"
   ]
  },
  {
   "cell_type": "code",
   "execution_count": 1,
   "metadata": {},
   "outputs": [
    {
     "name": "stdout",
     "output_type": "stream",
     "text": [
      "The version of Python used is: 3.10.12\n"
     ]
    }
   ],
   "source": [
    "# A small readme\n",
    "from platform import python_version\n",
    "print(f\"The version of Python used is: {python_version()}\")"
   ]
  },
  {
   "cell_type": "code",
   "execution_count": 2,
   "metadata": {},
   "outputs": [],
   "source": [
    "from pprint import pprint\n",
    "from typing import List, Tuple, Callable, Dict, Union\n",
    "from collections import Counter\n",
    "import random"
   ]
  },
  {
   "attachments": {},
   "cell_type": "markdown",
   "metadata": {},
   "source": [
    "## Local Search - Genetic Algorithm\n",
    "\n",
    "_This notebook is based on a programming assignment for Johns Hopkins University's Artificial Intelligence course._\n",
    "\n",
    "There are some key ideas in the Genetic Algorithm.\n",
    "\n",
    "First, there is a problem of some kind that either *is* an optimization problem or the solution can be expressed in terms of an optimization problem.\n",
    "For example, if we wanted to minimize the function\n",
    "\n",
    "$$f(x) = \\sum (x_i - 0.5)^2$$\n",
    "\n",
    "where $n = 10$.\n",
    "This *is* an optimization problem. Normally, optimization problems are much, much harder.\n",
    "\n",
    "![Eggholder](http://www.sfu.ca/~ssurjano/egg.png)!\n",
    "\n",
    "The function we wish to optimize is often called the **objective function**.\n",
    "The objective function is closely related to the **fitness** function in the GA.\n",
    "If we have a **maximization** problem, then we can use the objective function directly as a fitness function.\n",
    "If we have a **minimization** problem, then we need to convert the objective function into a suitable fitness function, since fitness functions must always mean \"more is better\".\n",
    "\n",
    "Second, we need to *encode* candidate solutions using an \"alphabet\" analogous to G, A, T, C in DNA.\n",
    "This encoding can be quite abstract.\n",
    "You saw this in the Self Check.\n",
    "There a floating point number was encoded as bits, just as in a computer and a sophisticated decoding scheme was then required.\n",
    "\n",
    "Sometimes, the encoding need not be very complicated at all.\n",
    "For example, in the real-valued GA, discussed in the Lectures, we could represent 2.73 as....2.73.\n",
    "This is similarly true for a string matching problem.\n",
    "We *could* encode \"a\" as \"a\", 97, or '01100001'.\n",
    "And then \"hello\" would be:\n",
    "\n",
    "```\n",
    "[\"h\", \"e\", \"l\", \"l\", \"o\"]\n",
    "```\n",
    "\n",
    "or\n",
    "\n",
    "```\n",
    "[104, 101, 108, 108, 111]\n",
    "```\n",
    "\n",
    "or\n",
    "\n",
    "```\n",
    "0, 1, 1, 0, 1, 0, 0, 0, 0, 1, 1, 0, 0, 1, 0, 1, 0, 1, 1, 0, 1, 1, 0, 0, 0, 1, 1, 0, 1, 1, 0, 0, 0, 1, 1, 0, 1, 1, 1, 1\n",
    "```\n",
    "\n",
    "In Genetics terminology, this is the **chromosome** of the individual. And if this individual had the **phenotype** \"h\" for the first character then they would have the **genotype** for \"h\" (either as \"h\", 104, or 01101000).\n",
    "\n",
    "To keep it straight, think **geno**type is **genes** and **pheno**type is **phenomenon**, the actual thing that the genes express.\n",
    "So while we might encode a number as 10110110 (genotype), the number itself, 182, is what goes into the fitness function.\n",
    "The environment operates on zebras, not the genes for stripes."
   ]
  },
  {
   "attachments": {},
   "cell_type": "markdown",
   "metadata": {},
   "source": [
    "## String Matching\n",
    "\n",
    "We are going to write a Genetic Algorithm that will solve the problem of matching a target string (at least at the start).\n",
    "Now, this is kind of silly because in order for this to work, you need to know the target string and if you know the target string, why are you trying to do it?\n",
    "Well, the problem is *pedagogical*.\n",
    "It's a fun way of visualizing the GA at work, because as the GA finds better and better candidates, they make more and more sense.\n",
    "\n",
    "Now, string matching is not *directly* an optimization problem so this falls under the general category of \"if we convert the problem into an optimization problem we can solve it with an optimization algorithm\" approach to problem solving.\n",
    "This happens all the time.\n",
    "We have a problem.\n",
    "We can't solve it.\n",
    "We convert it to a problem we *can* solve.\n",
    "In this case, we're using the GA to solve the optimization part.\n",
    "\n",
    "And all we need is some sort of measure of the difference between two strings.\n",
    "We can use that measure as a **loss function**.\n",
    "A loss function gives us a score tells us how similar two strings are.\n",
    "The loss function becomes our objective function and we use the GA to minimize it by converting the objective function to a fitness function.\n",
    "So that's the first step, come up with the loss/objective function.\n",
    "The only stipulation is that it must calculate the score based on element to element (character to character) comparisons with no global transformations of the candidate or target strings.\n",
    "\n",
    "And since this is a GA, we need a **genotype**.\n",
    "The genotype for this problem is a list of \"characters\" (individual letters aren't special in Python like they are in some other languages):\n",
    "\n",
    "```\n",
    "[\"h\", \"e\", \"l\", \"l\", \"o\"]\n",
    "```\n",
    "\n",
    "and the **phenotype** is the resulting string:\n",
    "\n",
    "```\n",
    "\"hello\"\n",
    "```\n",
    "\n",
    "In addition to the generic code and problem specific loss function, you'll need to pick parameters for the run.\n",
    "These parameters include:\n",
    "\n",
    "1. population size\n",
    "2. number of generations\n",
    "3. probability of crossover\n",
    "4. probability of mutation\n",
    "\n",
    "Every **ten** (10) generations, we will print out the fitness, genotype, and phenotype of the best individual in the population for the specific generation.\n",
    "The function returns the best individual *of the entire run*, using the same format."
   ]
  },
  {
   "cell_type": "code",
   "execution_count": 3,
   "metadata": {},
   "outputs": [],
   "source": [
    "ALPHABET = \"abcdefghijklmnopqrstuvwxyz \""
   ]
  },
  {
   "attachments": {},
   "cell_type": "markdown",
   "metadata": {},
   "source": [
    "### generate_random_population\n",
    "\n",
    "Creates a population of random strings. Each string is of length target_length, and the characters are randomly chosen from the given alphabet. The population size will be population_size.\n",
    "\n",
    "* **population_size** (int): The size of the population to generate.\n",
    "* **target_length** (int): The length of each individual string in the population.\n",
    "* **alphabet** (List[str]): A list of characters that can be chosen to form the strings.\n",
    "\n",
    "**returns** List[List[str]]: A list of population_size strings, each of length target_length, with characters randomly chosen from alphabet."
   ]
  },
  {
   "cell_type": "code",
   "execution_count": 4,
   "metadata": {},
   "outputs": [],
   "source": [
    "def generate_random_population(population_size: int, target_length: int, alphabet: List[str]) -> List[List[str]]:\n",
    "    return [[random.choice(alphabet) for _ in range(target_length)] for _ in range(population_size)]"
   ]
  },
  {
   "cell_type": "markdown",
   "metadata": {},
   "source": [
    "### unit test: generate_random_population"
   ]
  },
  {
   "cell_type": "code",
   "execution_count": 5,
   "metadata": {},
   "outputs": [],
   "source": [
    "random.seed(42)\n",
    "alphabet = ['A', 'B', 'C']\n",
    "result = generate_random_population(2, 3, alphabet)\n",
    "expected_result = [['C', 'A', 'A'], ['C', 'B', 'A']]\n",
    "assert result == expected_result, f\"Expected {expected_result} but got {result}\""
   ]
  },
  {
   "attachments": {},
   "cell_type": "markdown",
   "metadata": {},
   "source": [
    "### get_genotype\n",
    "\n",
    "get_genotype takes a phenotype (represented as a string) and converts it into a genotype by breaking the string into a list of its individual characters.\n",
    "\n",
    "Parameters:\n",
    "\n",
    "* **phenotype** (str): The phenotype represented as a string, to be converted into a genotype.\n",
    "\n",
    "**returns** List[str]: A list of strings, with each element being a character from the phenotype string."
   ]
  },
  {
   "cell_type": "code",
   "execution_count": 6,
   "metadata": {},
   "outputs": [],
   "source": [
    "def get_genotype(phenotype: str) -> List[str]:\n",
    "    return list(phenotype)"
   ]
  },
  {
   "cell_type": "markdown",
   "metadata": {},
   "source": [
    "### unit test: get_genotype"
   ]
  },
  {
   "cell_type": "code",
   "execution_count": 7,
   "metadata": {},
   "outputs": [],
   "source": [
    "result = get_genotype(\"ABC\")\n",
    "expected_result = ['A', 'B', 'C']\n",
    "assert result == expected_result, f\"Expected {expected_result} but got {result}\""
   ]
  },
  {
   "attachments": {},
   "cell_type": "markdown",
   "metadata": {},
   "source": [
    "### get_phenotype\n",
    "\n",
    "get_phenotype takes a genotype (represented as a list of strings) and converts it into a phenotype by concatenating the strings into a single string.\n",
    "\n",
    "* **genotype** (List[str]): The genotype represented as a list of strings, to be converted into a phenotype.\n",
    "\n",
    "**returns** str: A concatenated string of the elements in the genotype list."
   ]
  },
  {
   "cell_type": "code",
   "execution_count": 8,
   "metadata": {},
   "outputs": [],
   "source": [
    "def get_phenotype(genotype: List[str]) -> str:\n",
    "    return \"\".join(genotype)"
   ]
  },
  {
   "cell_type": "markdown",
   "metadata": {},
   "source": [
    "### unit test: get_phenotype"
   ]
  },
  {
   "cell_type": "code",
   "execution_count": 9,
   "metadata": {},
   "outputs": [],
   "source": [
    "result = get_phenotype(['A', 'B', 'C'])\n",
    "expected_result = 'ABC'\n",
    "assert result == expected_result, f\"Expected {expected_result} but got {result}\""
   ]
  },
  {
   "attachments": {},
   "cell_type": "markdown",
   "metadata": {},
   "source": [
    "### roulette_wheel_selection\n",
    "\n",
    "roulette_wheel_selection performs roulette wheel selection based on fitness values. Given a list of tuples, where the third element represents the fitness of an individual, it probabilistically selects an individual based on their fitness, with a higher fitness leading to a higher chance of selection.\n",
    "\n",
    "* **fitness_values** (List[Tuple[object, object, float]]): A list of tuples, where each tuple represents an individual, phenotype, and fitness value, respectively.\n",
    "\n",
    "**returns** Tuple[object, object, float]: A tuple representing the selected individual, containing its individual representation, phenotype, and fitness value."
   ]
  },
  {
   "cell_type": "code",
   "execution_count": 10,
   "metadata": {},
   "outputs": [],
   "source": [
    "def roulette_wheel_selection(fitness_values: List[Tuple[object, object, float]]) -> Tuple[object, object, float]:\n",
    "    total_fitness = sum(x[2] for x in fitness_values)  # Use the third element in tuple for fitness\n",
    "    pick = random.uniform(0, total_fitness)\n",
    "    current = 0\n",
    "    for individual_tuple in fitness_values:\n",
    "        current += individual_tuple[2]  # Adding fitness value\n",
    "        if current > pick:\n",
    "            return individual_tuple  # Return the tuple (individual, phenotype, fitness)"
   ]
  },
  {
   "cell_type": "markdown",
   "metadata": {},
   "source": [
    "### unit test: roulette_wheel_selection"
   ]
  },
  {
   "cell_type": "code",
   "execution_count": 11,
   "metadata": {},
   "outputs": [],
   "source": [
    "random.seed(42)\n",
    "fitness_values = [('ind1', 'phen1', 10), ('ind2', 'phen2', 20), ('ind3', 'phen3', 30)]\n",
    "result = roulette_wheel_selection(fitness_values)\n",
    "expected_result = ('ind3', 'phen3', 30)\n",
    "assert result == expected_result, f\"Expected {expected_result} but got {result}\""
   ]
  },
  {
   "attachments": {},
   "cell_type": "markdown",
   "metadata": {},
   "source": [
    "### tournament_selection\n",
    "\n",
    "tournament_selection performs tournament selection on a given population and their corresponding fitness values. It randomly selects tournament_size individuals from the population and returns the one with the lowest or highest fitness, depending on the value of the minimize parameter.\n",
    "\n",
    "* **population** (List[object]): The population represented as a list of individuals.\n",
    "* **fitness_values** (List[Tuple[object, object, float]]): A list of tuples, where each tuple represents an individual, phenotype, and fitness value, respectively.\n",
    "* **tournament_size** (int, optional): The number of individuals to randomly select for the tournament. Defaults to 10.\n",
    "* **minimize** (bool, optional): If True, the function returns the individual with the lowest fitness; if False, the individual with the highest fitness. Defaults to True.\n",
    "\n",
    "**returns** Tuple[object, object, float]: A tuple representing the selected individual from the tournament, containing its individual representation, phenotype, and fitness value."
   ]
  },
  {
   "cell_type": "code",
   "execution_count": 12,
   "metadata": {},
   "outputs": [],
   "source": [
    "def tournament_selection(population: List[object], fitness_values: List[Tuple[object, object, float]], tournament_size: int = 10, minimize: bool = True) -> Tuple[object, object, float]:\n",
    "    selected_individuals = random.sample(list(zip(population, fitness_values)), tournament_size)\n",
    "\n",
    "    # If minimize is True, return the selected individual with the lowest fitness\n",
    "    if minimize:\n",
    "        return min(selected_individuals, key=lambda x: x[1][2])[1]\n",
    "    # Otherwise, return the selected individual with the highest fitness\n",
    "    else:\n",
    "        return max(selected_individuals, key=lambda x: x[1][2])[1]"
   ]
  },
  {
   "cell_type": "markdown",
   "metadata": {},
   "source": [
    "### unit test: tournament_selection"
   ]
  },
  {
   "cell_type": "code",
   "execution_count": 13,
   "metadata": {},
   "outputs": [],
   "source": [
    "random.seed(40)\n",
    "population = ['ind1', 'ind2', 'ind3']\n",
    "fitness_values = [('ind1', 'phen1', 10), ('ind2', 'phen2', 20), ('ind3', 'phen3', 30)]\n",
    "result = tournament_selection(population, fitness_values, tournament_size=2, minimize=False)\n",
    "expected_result = ('ind2', 'phen2', 20)\n",
    "assert result == expected_result, f\"Expected {expected_result} but got {result}\""
   ]
  },
  {
   "attachments": {},
   "cell_type": "markdown",
   "metadata": {},
   "source": [
    "### pick_parents\n",
    "\n",
    "pick_parents picks parent individuals from a given population based on their fitness values. The selection method can be either \"roulette\" (roulette wheel selection) or \"tournament\" (tournament selection). The minimize parameter controls whether to minimize or maximize the fitness value.\n",
    "\n",
    "* **population** (List[object]): The population represented as a list of individuals.\n",
    "* **fitness_values** (List[Tuple[object, object, float]]): A list of tuples, where each tuple represents an individual, phenotype, and fitness value, respectively.\n",
    "* **method** (str, optional): The method for selecting parents, either \"roulette\" or \"tournament\". Defaults to \"roulette\".\n",
    "* **minimize** (bool, optional): If True, the selection minimizes fitness; if False, it maximizes. Only used with the \"tournament\" method. Defaults to True.\n",
    "\n",
    "**returns** Tuple[object, object, float]: A tuple representing the selected parent, containing its individual representation, phenotype, and fitness value."
   ]
  },
  {
   "cell_type": "code",
   "execution_count": 14,
   "metadata": {},
   "outputs": [],
   "source": [
    "def pick_parents(population: List[object], fitness_values: List[Tuple[object, object, float]], method: str = \"roulette\", minimize: bool = True) -> Tuple[object, object, float]:\n",
    "    if method == \"roulette\":\n",
    "        return roulette_wheel_selection(fitness_values)\n",
    "    elif method == \"tournament\":\n",
    "        return tournament_selection(population, fitness_values, minimize=minimize)\n",
    "    else:\n",
    "        raise ValueError(\"Invalid method\")"
   ]
  },
  {
   "cell_type": "markdown",
   "metadata": {},
   "source": [
    "### unit test: pick_parents"
   ]
  },
  {
   "cell_type": "code",
   "execution_count": 15,
   "metadata": {},
   "outputs": [],
   "source": [
    "random.seed(42)\n",
    "population = ['ind1', 'ind2', 'ind3']\n",
    "fitness_values = [('ind1', 'phen1', 10), ('ind2', 'phen2', 20), ('ind3', 'phen3', 30)]\n",
    "result = pick_parents(population, fitness_values, method=\"roulette\", minimize=False)\n",
    "expected_result = ('ind3', 'phen3', 30)\n",
    "assert result == expected_result, f\"Expected {expected_result} but got {result}\""
   ]
  },
  {
   "attachments": {},
   "cell_type": "markdown",
   "metadata": {},
   "source": [
    "### crossover\n",
    "\n",
    "crossover takes two parent individuals and performs single-point crossover to create two child individuals. It uses the get_phenotype function to convert the children's genotypes to phenotypes and then evaluates their fitness using the provided eval_func function.\n",
    "\n",
    "* **parent1** (Tuple[object, object, float]): The first parent, represented as a tuple containing the individual's genotype, phenotype, and fitness.\n",
    "* **parent2** (Tuple[object, object, float]): The second parent, represented in the same way as the first parent.\n",
    "* **target** (object): A target value used in the evaluation of the fitness function.\n",
    "* **alphabet** (object): The alphabet used in the phenotype representation, if applicable.\n",
    "* **eval_func** (Callable): A function used to evaluate the fitness of an individual. It must take the phenotype, target, and alphabet as parameters and return a fitness value.\n",
    "\n",
    "**returns** Tuple[Tuple[object, object, float], Tuple[object, object, float]]: Two tuples, each representing one of the two child individuals created through crossover. Each tuple contains the child's genotype, phenotype, and fitness."
   ]
  },
  {
   "cell_type": "code",
   "execution_count": 16,
   "metadata": {},
   "outputs": [],
   "source": [
    "def crossover(parent1: Tuple[object, object, float], parent2: Tuple[object, object, float], target: object, alphabet: object, eval_func: Callable) -> Tuple[Tuple[object, object, float], Tuple[object, object, float]]:\n",
    "    crossover_point = random.randint(1, len(parent1[0]) - 1)\n",
    "    child1_individual = parent1[0][:crossover_point] + parent2[0][crossover_point:]\n",
    "    child2_individual = parent2[0][:crossover_point] + parent1[0][crossover_point:]\n",
    "\n",
    "    child1_phenotype = get_phenotype(child1_individual)\n",
    "    child2_phenotype = get_phenotype(child2_individual)\n",
    "\n",
    "    child1_fitness = eval_func(child1_phenotype, target, alphabet)\n",
    "    child2_fitness = eval_func(child2_phenotype, target, alphabet)\n",
    "\n",
    "    return (child1_individual, child1_phenotype, child1_fitness), (child2_individual, child2_phenotype, child2_fitness)"
   ]
  },
  {
   "cell_type": "markdown",
   "metadata": {},
   "source": [
    "### unit test: crossover"
   ]
  },
  {
   "cell_type": "code",
   "execution_count": 17,
   "metadata": {},
   "outputs": [],
   "source": [
    "def eval_func_example(phenotype, target, alphabet):\n",
    "    return abs(len(phenotype) - target)\n",
    "\n",
    "random.seed(42)\n",
    "parent1 = (['A', 'B', 'C'], 'ABC', 3)\n",
    "parent2 = (['X', 'Y', 'Z'], 'XYZ', 3)\n",
    "target = 3\n",
    "alphabet = ['A', 'B', 'C', 'X', 'Y', 'Z']\n",
    "result = crossover(parent1, parent2, target, alphabet, eval_func_example)\n",
    "expected_result = ((['A', 'Y', 'Z'], 'AYZ', 0), (['X', 'B', 'C'], 'XBC', 0))\n",
    "assert result == expected_result, f\"Expected {expected_result} but got {result}\""
   ]
  },
  {
   "attachments": {},
   "cell_type": "markdown",
   "metadata": {},
   "source": [
    "### mutate\n",
    "\n",
    "The mutate function takes an individual represented as a tuple and applies a point mutation with a given probability to its genotype. The new phenotype is then calculated, and the new fitness is evaluated using the provided eval_func function.\n",
    "\n",
    "* **individual_tuple** (Tuple[object, object, float]): The individual to be mutated, represented as a tuple containing its genotype, phenotype, and fitness.\n",
    "* **mutation_probability** (float): The probability of mutation at each gene.\n",
    "* **target** (object): A target value used in the evaluation of the fitness function.\n",
    "* **alphabet** (object): The alphabet used in the phenotype representation, if applicable.\n",
    "* **eval_func** (Callable): A function used to evaluate the fitness of an individual. It must take the phenotype, target, and alphabet as parameters and return a fitness value.\n",
    "\n",
    "**returns** Tuple[object, object, float]: A tuple representing the mutated individual, containing its genotype, phenotype, and new fitness."
   ]
  },
  {
   "cell_type": "code",
   "execution_count": 18,
   "metadata": {},
   "outputs": [],
   "source": [
    "def mutate(individual_tuple: Tuple[object, object, float], mutation_probability: float, target: object, alphabet: object, eval_func: Callable) -> Tuple[object, object, float]:\n",
    "    individual, _, _ = individual_tuple\n",
    "    for i in range(len(individual)):\n",
    "        if random.random() < mutation_probability:\n",
    "            individual[i] = random.choice(alphabet)\n",
    "\n",
    "    new_phenotype = get_phenotype(individual)\n",
    "    new_fitness = eval_func(new_phenotype, target, alphabet)\n",
    "\n",
    "    return individual, new_phenotype, new_fitness"
   ]
  },
  {
   "cell_type": "markdown",
   "metadata": {},
   "source": [
    "### unit test: mutate"
   ]
  },
  {
   "cell_type": "code",
   "execution_count": 19,
   "metadata": {},
   "outputs": [],
   "source": [
    "def eval_func_example(phenotype, target, alphabet):\n",
    "    return abs(len(phenotype) - target)\n",
    "\n",
    "random.seed(42)\n",
    "individual_tuple = (['A', 'B', 'C'], 'ABC', 3)\n",
    "mutation_probability = 1  # Assuring mutation at every position\n",
    "target = 3\n",
    "alphabet = ['X', 'Y', 'Z']\n",
    "result = mutate(individual_tuple, mutation_probability, target, alphabet, eval_func_example)\n",
    "expected_result = (['X', 'X', 'Z'], 'XXZ', 0)\n",
    "assert result == expected_result, f\"Expected {expected_result} but got {result}\""
   ]
  },
  {
   "attachments": {},
   "cell_type": "markdown",
   "metadata": {},
   "source": [
    "### sort_population_by_fitness\n",
    "\n",
    "sort_population_by_fitness takes a population of individuals, represented as genotypes, and sorts them based on their fitness. It converts the genotypes to phenotypes, calculates their fitness using the provided eval_func function, and returns a sorted list of tuples containing the genotype, phenotype, and fitness. The sort order is determined by the minimized parameter.\n",
    "\n",
    "* **population** (List[object]): The population to be sorted, represented as a list of individuals' genotypes.\n",
    "* **target** (str): A target value used in the evaluation of the fitness function.\n",
    "* **alphabet** (str): The alphabet used in the phenotype representation, if applicable.\n",
    "* **eval_func** (Callable): A function used to evaluate the fitness of an individual. It must take the phenotype, target, and alphabet as parameters and return a fitness value.\n",
    "* **minimized** (bool): If True, the population is sorted in ascending order by fitness (i.e., fitness is minimized); if False, it is sorted in descending order (i.e., fitness is maximized).\n",
    "\n",
    "**returns** List[Tuple[object, object, float]]: A sorted list of tuples, where each tuple represents an individual and contains its genotype, phenotype, and fitness."
   ]
  },
  {
   "cell_type": "code",
   "execution_count": 20,
   "metadata": {},
   "outputs": [],
   "source": [
    "def sort_population_by_fitness(population: List[object], target: str, alphabet: str, eval_func: Callable, minimized: bool) -> List[Tuple[object, object, float]]:\n",
    "    if minimized:\n",
    "        return sorted([(individual, get_phenotype(individual), eval_func(get_phenotype(individual), target, alphabet)) for individual in population], key=lambda x: x[2])\n",
    "    else:\n",
    "        return sorted([(individual, get_phenotype(individual), eval_func(get_phenotype(individual), target, alphabet)) for individual in population], key=lambda x: x[2], reverse=True)"
   ]
  },
  {
   "cell_type": "markdown",
   "metadata": {},
   "source": [
    "### unit test: sort_population_by_fitness"
   ]
  },
  {
   "cell_type": "code",
   "execution_count": 21,
   "metadata": {},
   "outputs": [],
   "source": [
    "def lists_contain_same_elements(list1, list2):\n",
    "    return all(elem in list2 for elem in list1) and all(elem in list1 for elem in list2)\n",
    "\n",
    "def eval_func_example(phenotype, target, alphabet):\n",
    "    return abs(len(phenotype) - int(target))\n",
    "\n",
    "population = [['A', 'B'], ['X', 'Y'], ['C', 'D']]\n",
    "target = '2'\n",
    "alphabet = 'ABCDXY'\n",
    "minimized = True\n",
    "result = sort_population_by_fitness(population, target, alphabet, eval_func_example, minimized)\n",
    "expected_result = [(['A', 'B'], 'AB', 0), (['C', 'D'], 'CD', 0), (['X', 'Y'], 'XY', 0)]\n",
    "assert lists_contain_same_elements(result, expected_result), f\"Expected {expected_result} but got {result}\""
   ]
  },
  {
   "attachments": {},
   "cell_type": "markdown",
   "metadata": {},
   "source": [
    "### genetic_algorithm\n",
    "\n",
    "The genetic_algorithm function executes a genetic algorithm to find a solution to a given problem, defined by the evaluation function (eval_func). The algorithm evolves a population over several generations through selection, crossover, and mutation. A part of the top individuals (as determined by top_percent) is retained from one generation to the next. The process continues for a specified number of generations or until a satisfactory solution is found. The phenotype of the best solution is returned.\n",
    "\n",
    "* **eval_func** (Callable): A callable that evaluates the fitness of a phenotype.\n",
    "* **target** (str): The target string to be matched or a value used in fitness evaluation.\n",
    "* **population_size** (int): The size of the population.\n",
    "* **generations** (int): The number of generations to run the algorithm.\n",
    "* **crossover_probability** (float): The probability of crossover happening between two parents.\n",
    "* **mutation_probability** (float): The probability of mutation in an individual.\n",
    "* **selection_method** (str): The method of selection (e.g., \"roulette\" or \"tournament\").\n",
    "* **top_percent** (float): The percentage of the top individuals to retain in the next generation.\n",
    "* **alphabet** (str): The alphabet used in the generation of the population and possible mutations.\n",
    "* **minimize** (bool): A flag to determine if the fitness should be minimized or maximized. Defaults to true.\n",
    "\n",
    "**returns** (str): The best phenotype"
   ]
  },
  {
   "cell_type": "code",
   "execution_count": 22,
   "metadata": {},
   "outputs": [],
   "source": [
    "def genetic_algorithm(\n",
    "        eval_func: Callable[[str, str, str], int], \n",
    "        target: str, \n",
    "        population_size: int, \n",
    "        generations: int, \n",
    "        crossover_probability: float, \n",
    "        mutation_probability: float, \n",
    "        selection_method: str, \n",
    "        top_percent: float, \n",
    "        alphabet: str,\n",
    "        minimize: bool = True) -> str:\n",
    "    \n",
    "    target_length = len(target)\n",
    "    population = generate_random_population(population_size, target_length, alphabet)\n",
    "\n",
    "    for generation in range(generations):\n",
    "        fitness_values = sort_population_by_fitness(population, target, alphabet, eval_func, minimize)\n",
    "\n",
    "        # Show the progress every 10 generations by printing the lowest fitness for the individual\n",
    "        if generation % 10 == 0:\n",
    "            print(f\"Generation {generation}: Phenotype: {fitness_values[0][1]}, Fitness: {fitness_values[0][2]}, Genotype: {fitness_values[0][0]}\")\n",
    "\n",
    "        # If the target is minimized and the lowest fitness is 0 or the phenotype equals the target, return the phenotype\n",
    "        if minimize and fitness_values[0][2] == 0 or not minimize and fitness_values[0][2] == len(target):\n",
    "            return fitness_values[0][1]\n",
    "\n",
    "        new_population = []\n",
    "        top_population = int(population_size * top_percent)\n",
    "\n",
    "        # keep the top phenotypes the same\n",
    "        for p in fitness_values[:top_population]:\n",
    "            new_population.append(p)\n",
    "\n",
    "        for _ in range(population_size // 2):\n",
    "            parent1 = pick_parents(population, fitness_values, method=selection_method, minimize=minimize)\n",
    "            parent2 = pick_parents(population, fitness_values, method=selection_method, minimize=minimize)\n",
    "            if random.random() < crossover_probability:\n",
    "                child1, child2 = crossover(parent1, parent2, target, alphabet, eval_func)\n",
    "            else:\n",
    "                child1, child2 = parent1, parent2\n",
    "            child1 = mutate(child1, mutation_probability, target, alphabet, eval_func)\n",
    "            child2 = mutate(child2, mutation_probability, target, alphabet, eval_func)\n",
    "            new_population.extend([[c for c in child1], [c for c in child2]])\n",
    "\n",
    "        # Grab only the individuals from the tuple\n",
    "        new_population = [x[0] for x in new_population]\n",
    "        population = new_population\n",
    "\n",
    "    return fitness_values[0][1]"
   ]
  },
  {
   "attachments": {},
   "cell_type": "markdown",
   "metadata": {},
   "source": [
    "#### evaluate_journey1\n",
    "\n",
    "The function evaluate_journey1 takes two strings, current_phenotype and target_phenotype, and an alphabet string. It computes a fitness score that represents how different the two phenotypes are. The phenotypes are processed through a get_genotype function (not defined here) and then compared character by character. The difference in the characters' positions in the given alphabet contributes to the fitness score. The lower the fitness score, the better.\n",
    "    \n",
    "* **current_phenotype** (str): A string representing the current phenotype that needs to be evaluated.\n",
    "* **target_phenotype** (str): A string representing the target phenotype to compare against.\n",
    "* **alphabet** (str): A string representing the alphabet used to map characters to indices.\n",
    "\n",
    "**returns** (int): The function returns an integer representing the fitness score. The fitness score is calculated by summing the absolute differences in indices of differing characters between the current genotype and the target genotype. If a character is not found in the given alphabet, the length of the alphabet is added to the fitness score. A lower fitness score indicates that the current phenotype is closer to the target phenotype."
   ]
  },
  {
   "cell_type": "code",
   "execution_count": 23,
   "metadata": {},
   "outputs": [],
   "source": [
    "def evaluate_journey1(current_phenotype: str, target_phenotype: str, alphabet: str) -> int:\n",
    "    if len(current_phenotype) != len(target_phenotype):\n",
    "        raise ValueError(\"The current phenotype and the target phenotype must be of the same length.\")\n",
    "\n",
    "    current_genotype = get_genotype(current_phenotype)\n",
    "    target_genotype = get_genotype(target_phenotype)\n",
    "\n",
    "    # Create a dictionary to map each character to its index\n",
    "    char_to_index = {char: index for index, char in enumerate(alphabet)}\n",
    "\n",
    "    fitness = 0\n",
    "    for i in range(len(current_genotype)):\n",
    "        curr_char = current_genotype[i]\n",
    "        target_char = target_genotype[i]\n",
    "        \n",
    "        if curr_char == target_char:\n",
    "            continue\n",
    "        elif curr_char in char_to_index:\n",
    "            # Use the precomputed indices\n",
    "            fitness += abs(char_to_index[curr_char] - char_to_index[target_char])\n",
    "        else:\n",
    "            fitness += len(alphabet)\n",
    "\n",
    "    return fitness"
   ]
  },
  {
   "attachments": {},
   "cell_type": "markdown",
   "metadata": {},
   "source": [
    "## Journey 1\n",
    "\n",
    "The target is the string \"i love to read pureai\".\n",
    "The fitness function calculates a fitness score based on element to element comparisons between target versus phenotype."
   ]
  },
  {
   "cell_type": "code",
   "execution_count": 24,
   "metadata": {},
   "outputs": [],
   "source": [
    "target1 = \"i love to read pureai\""
   ]
  },
  {
   "cell_type": "code",
   "execution_count": 25,
   "metadata": {},
   "outputs": [
    {
     "name": "stdout",
     "output_type": "stream",
     "text": [
      "Generation 0: Phenotype: kooovgqpzzxfvcjqvutkc, Fitness: 127, Genotype: ['k', 'o', 'o', 'o', 'v', 'g', 'q', 'p', 'z', 'z', 'x', 'f', 'v', 'c', 'j', 'q', 'v', 'u', 't', 'k', 'c']\n",
      "Generation 10: Phenotype: g ooxgztpzrfdbspqqfbi, Fitness: 33, Genotype: ['g', ' ', 'o', 'o', 'x', 'g', 'z', 't', 'p', 'z', 'r', 'f', 'd', 'b', 's', 'p', 'q', 'q', 'f', 'b', 'i']\n",
      "Generation 20: Phenotype: i oovgztpzrfab pvqdbi, Fitness: 15, Genotype: ['i', ' ', 'o', 'o', 'v', 'g', 'z', 't', 'p', 'z', 'r', 'f', 'a', 'b', ' ', 'p', 'v', 'q', 'd', 'b', 'i']\n",
      "Generation 30: Phenotype: i movgztpzreae pvrdbi, Fitness: 10, Genotype: ['i', ' ', 'm', 'o', 'v', 'g', 'z', 't', 'p', 'z', 'r', 'e', 'a', 'e', ' ', 'p', 'v', 'r', 'd', 'b', 'i']\n",
      "Generation 40: Phenotype: i moveztozreae pvrdbi, Fitness: 7, Genotype: ['i', ' ', 'm', 'o', 'v', 'e', 'z', 't', 'o', 'z', 'r', 'e', 'a', 'e', ' ', 'p', 'v', 'r', 'd', 'b', 'i']\n",
      "Generation 50: Phenotype: i move to reae purdai, Fitness: 3, Genotype: ['i', ' ', 'm', 'o', 'v', 'e', ' ', 't', 'o', ' ', 'r', 'e', 'a', 'e', ' ', 'p', 'u', 'r', 'd', 'a', 'i']\n",
      "Generation 60: Phenotype: i love to read purdai, Fitness: 1, Genotype: ['i', ' ', 'l', 'o', 'v', 'e', ' ', 't', 'o', ' ', 'r', 'e', 'a', 'd', ' ', 'p', 'u', 'r', 'd', 'a', 'i']\n",
      "Generation 70: Phenotype: i love to read purdai, Fitness: 1, Genotype: ['i', ' ', 'l', 'o', 'v', 'e', ' ', 't', 'o', ' ', 'r', 'e', 'a', 'd', ' ', 'p', 'u', 'r', 'd', 'a', 'i']\n",
      "Generation 80: Phenotype: i love to read purdai, Fitness: 1, Genotype: ['i', ' ', 'l', 'o', 'v', 'e', ' ', 't', 'o', ' ', 'r', 'e', 'a', 'd', ' ', 'p', 'u', 'r', 'd', 'a', 'i']\n",
      "Generation 90: Phenotype: i love to read purdai, Fitness: 1, Genotype: ['i', ' ', 'l', 'o', 'v', 'e', ' ', 't', 'o', ' ', 'r', 'e', 'a', 'd', ' ', 'p', 'u', 'r', 'd', 'a', 'i']\n",
      "Generation 100: Phenotype: i love to read purdai, Fitness: 1, Genotype: ['i', ' ', 'l', 'o', 'v', 'e', ' ', 't', 'o', ' ', 'r', 'e', 'a', 'd', ' ', 'p', 'u', 'r', 'd', 'a', 'i']\n",
      "Generation 110: Phenotype: i love to read purdai, Fitness: 1, Genotype: ['i', ' ', 'l', 'o', 'v', 'e', ' ', 't', 'o', ' ', 'r', 'e', 'a', 'd', ' ', 'p', 'u', 'r', 'd', 'a', 'i']\n"
     ]
    }
   ],
   "source": [
    "result1 = genetic_algorithm(\n",
    "    eval_func=evaluate_journey1,\n",
    "    target=target1, \n",
    "    population_size=100, \n",
    "    generations=1000, \n",
    "    crossover_probability=0.9, \n",
    "    mutation_probability=0.05,\n",
    "    top_percent=0.3, \n",
    "    selection_method=\"tournament\", \n",
    "    alphabet=ALPHABET)"
   ]
  },
  {
   "cell_type": "code",
   "execution_count": 26,
   "metadata": {},
   "outputs": [
    {
     "name": "stdout",
     "output_type": "stream",
     "text": [
      "'i love to read pureai'\n"
     ]
    }
   ],
   "source": [
    "pprint(result1, compact=True)"
   ]
  },
  {
   "attachments": {},
   "cell_type": "markdown",
   "metadata": {},
   "source": [
    "## Journey 2\n",
    "\n",
    "The objective here is to delve deeper into the concept of fitness functions. The string we're aiming for is 'iaerup daer ot evol i', which is clearly target #1 but in reverse. Matching this string would be a simple task if that's all we wanted to do. However, our challenge in this situation is to \"decode\" the string so that the top individual reveals the target in the correct order. To achieve this, you must design a fitness function to gauge how well candidates are progressing towards this aim. The limitation is that you cannot apply any global operations to the target or individuals, and your fitness function must continue to evaluate a single gene against another single gene. Although your solution might not adhere to conventional Pythonic practices and might rely on indexing, that's acceptable.\n",
    "\n",
    "The individual that stands out as the best in the population will be the one that renders this string forwards."
   ]
  },
  {
   "cell_type": "code",
   "execution_count": 27,
   "metadata": {},
   "outputs": [],
   "source": [
    "target2 = \"iaerup daer ot evol i\""
   ]
  },
  {
   "attachments": {},
   "cell_type": "markdown",
   "metadata": {},
   "source": [
    "### evaluate_journey2\n",
    "\n",
    "The function evaluate_journey2 takes an individual string, a target string, and an alphabet (though the alphabet is not used in the function) and calculates a score that represents how closely the individual string matches the reverse of the target string. The score starts at the length of the target and is decremented by one for each character that matches its corresponding character in the reverse of the target string. A lower score indicates a better match.\n",
    "\n",
    "\n",
    "* **individual** (str): The individual string that needs to be evaluated against the reverse of the target string.\n",
    "* **target** (str): The target string against which the individual string is being evaluated. The individual string is compared to the reverse of this string.\n",
    "* **alphabet** (str): Though included as a parameter, it is not used within the function\n",
    "\n",
    "**returns** (int): The score, representing how closely the individual string matches the reverse of the target string. A lower score indicates a better match, with a minimum score of 0 if the individual string is the exact reverse of the target string."
   ]
  },
  {
   "cell_type": "code",
   "execution_count": 28,
   "metadata": {},
   "outputs": [],
   "source": [
    "def evaluate_journey2(individual: str, target: str, alphabet: str) -> int:\n",
    "    # Score starts at maximum possible difference\n",
    "    score = len(target)\n",
    "    \n",
    "    # Loop through each character (gene) in the individual string\n",
    "    for index, character in enumerate(individual):\n",
    "        # Get the corresponding character position from the end of the target string\n",
    "        corresponding_index = len(target) - index - 1\n",
    "        \n",
    "        # If characters match, decrement the score\n",
    "        if character == target[corresponding_index]:\n",
    "            score -= 1\n",
    "\n",
    "    # Lower score indicates a better match to the forward version of the target string\n",
    "    return score\n"
   ]
  },
  {
   "cell_type": "code",
   "execution_count": 29,
   "metadata": {},
   "outputs": [
    {
     "name": "stdout",
     "output_type": "stream",
     "text": [
      "Generation 0: Phenotype:  vam essqadsahsgjpza , Fitness: 18, Genotype: [' ', 'v', 'a', 'm', ' ', 'e', 's', 's', 'q', 'a', 'd', 's', 'a', 'h', 's', 'g', 'j', 'p', 'z', 'a', ' ']\n",
      "Generation 10: Phenotype: i xovb th readkpureas, Fitness: 5, Genotype: ['i', ' ', 'x', 'o', 'v', 'b', ' ', 't', 'h', ' ', 'r', 'e', 'a', 'd', 'k', 'p', 'u', 'r', 'e', 'a', 's']\n",
      "Generation 20: Phenotype: i lovn th read pureai, Fitness: 2, Genotype: ['i', ' ', 'l', 'o', 'v', 'n', ' ', 't', 'h', ' ', 'r', 'e', 'a', 'd', ' ', 'p', 'u', 'r', 'e', 'a', 'i']\n"
     ]
    }
   ],
   "source": [
    "result2 = genetic_algorithm(\n",
    "    eval_func=evaluate_journey2,\n",
    "    target=target2, \n",
    "    population_size=100, \n",
    "    generations=1000, \n",
    "    crossover_probability=0.9, \n",
    "    mutation_probability=0.05, \n",
    "    top_percent=0.3,\n",
    "    selection_method=\"tournament\", \n",
    "    alphabet=ALPHABET,\n",
    "    minimize=True)"
   ]
  },
  {
   "cell_type": "code",
   "execution_count": 30,
   "metadata": {},
   "outputs": [
    {
     "name": "stdout",
     "output_type": "stream",
     "text": [
      "'i love to read pureai'\n"
     ]
    }
   ],
   "source": [
    "pprint(result2, compact=True)"
   ]
  },
  {
   "attachments": {},
   "cell_type": "markdown",
   "metadata": {},
   "source": [
    "## Journey 3\n",
    "\n",
    "This is a variation on the theme of Journey 2.\n",
    "The Caeser Cypher replaces each letter of a string with the letter 13 characters down alphabet (rotating from \"z\" back to \"a\" as needed).\n",
    "This is also known as ROT13 (for \"rotate 13\").\n",
    "Latin did not have spaces (and the space is not continguous with the letters a-z) so we'll remove them from our alphabet.\n",
    "Again, the goal is to derive a fitness function that compares a single gene against a single gene, without global transformations.\n",
    "This fitness function assigns higher scores to individuals that correctly decode the target.\n",
    "\n",
    "<div style=\"background: lemonchiffon; margin:20px; padding: 20px;\">\n",
    "    <strong>Important</strong>\n",
    "    <p>\n",
    "        You may not apply ROT13 to an entire string (either target or candidate) at any time.\n",
    "        Everything must be a computation of one gene against one gene.\n",
    "    </p>\n",
    "</div>\n",
    "\n",
    "The best individual will express the target *decoded*."
   ]
  },
  {
   "cell_type": "code",
   "execution_count": 31,
   "metadata": {},
   "outputs": [],
   "source": [
    "ALPHABET3 = \"abcdefghijklmnopqrstuvwxyz\""
   ]
  },
  {
   "cell_type": "code",
   "execution_count": 32,
   "metadata": {},
   "outputs": [],
   "source": [
    "target3 = \"vybirgbernqchernv\""
   ]
  },
  {
   "attachments": {},
   "cell_type": "markdown",
   "metadata": {},
   "source": [
    "#### evaluate_journey3\n",
    "\n",
    "The evaluate_journey3 function decrypts a given string individual using the ROT13 algorithm and compares it to a target string target. The function increments a score every time a decrypted character in the individual string matches the corresponding character in the target string. The final score, representing the number of matching characters, is returned.\n",
    "\n",
    "* **individual** (str): The input string to be decrypted using ROT13 and compared to the target string.\n",
    "* **target** (str): The target string to which the decrypted individual string is compared.\n",
    "* **alphabet** (str): This parameter is actually unused in the code, and its purpose is not clear from the given code snippet.\n",
    "\n",
    "**returns** (int): The final score, representing the number of characters in the decrypted individual string that match the corresponding characters in the target string. The higher the score, the better the match."
   ]
  },
  {
   "cell_type": "code",
   "execution_count": 33,
   "metadata": {},
   "outputs": [],
   "source": [
    "def evaluate_journey3(individual: str, target: str, alphabet: str) -> int:\n",
    "    score = 0\n",
    "    \n",
    "    # Loop through each character (gene) in the individual string\n",
    "    for index, character in enumerate(individual):\n",
    "        # Convert the character to its ASCII code\n",
    "        ascii_code = ord(character)\n",
    "        \n",
    "        # Decrypt the letter using ROT13 (shift by 13 places)\n",
    "        # The ASCII code for 'a' is 97 and for 'z' is 122\n",
    "        if 'a' <= character <= 'z':\n",
    "            decrypted_ascii = (ascii_code - ord('a') + 13) % 26 + ord('a')\n",
    "        else:\n",
    "            decrypted_ascii = ascii_code\n",
    "        \n",
    "        # Convert the ASCII code back to a character\n",
    "        decrypted_char = chr(decrypted_ascii)\n",
    "        \n",
    "        # If decrypted character matches the target character, increment the score\n",
    "        if decrypted_char == target[index]:\n",
    "            score += 1\n",
    "\n",
    "    # Higher score indicates a better match to the decrypted version of the target string\n",
    "    return score\n"
   ]
  },
  {
   "cell_type": "code",
   "execution_count": 34,
   "metadata": {},
   "outputs": [
    {
     "name": "stdout",
     "output_type": "stream",
     "text": [
      "Generation 0: Phenotype: xjopdttubmvaxrcte, Fitness: 3, Genotype: ['x', 'j', 'o', 'p', 'd', 't', 't', 'u', 'b', 'm', 'v', 'a', 'x', 'r', 'c', 't', 'e']\n",
      "Generation 10: Phenotype: oloveaozyaopuream, Fitness: 11, Genotype: ['o', 'l', 'o', 'v', 'e', 'a', 'o', 'z', 'y', 'a', 'o', 'p', 'u', 'r', 'e', 'a', 'm']\n",
      "Generation 20: Phenotype: ilovetozyaipuream, Fitness: 13, Genotype: ['i', 'l', 'o', 'v', 'e', 't', 'o', 'z', 'y', 'a', 'i', 'p', 'u', 'r', 'e', 'a', 'm']\n",
      "Generation 30: Phenotype: ilovetozeadpurean, Fitness: 15, Genotype: ['i', 'l', 'o', 'v', 'e', 't', 'o', 'z', 'e', 'a', 'd', 'p', 'u', 'r', 'e', 'a', 'n']\n"
     ]
    }
   ],
   "source": [
    "result3 = genetic_algorithm(\n",
    "    eval_func=evaluate_journey3,\n",
    "    target=target3, \n",
    "    population_size=100, \n",
    "    generations=1000, \n",
    "    crossover_probability=0.9, \n",
    "    mutation_probability=0.05, \n",
    "    selection_method=\"tournament\",\n",
    "    top_percent=0.3,\n",
    "    alphabet=ALPHABET3,\n",
    "    minimize=False)"
   ]
  },
  {
   "cell_type": "code",
   "execution_count": 35,
   "metadata": {},
   "outputs": [
    {
     "name": "stdout",
     "output_type": "stream",
     "text": [
      "'ilovetoreadpureai'\n"
     ]
    }
   ],
   "source": [
    "pprint(result3, compact=True)"
   ]
  },
  {
   "attachments": {},
   "cell_type": "markdown",
   "metadata": {},
   "source": [
    "## Further Thinking\n",
    "\n",
    "In Journey 3, we assumed we knew what the shift was in ROT-13.\n",
    "What if we didn't?\n",
    "Describe how you might solve that problem including a description of the solution encoding (chromosome and interpretation) and fitness function. Assume we can add spaces into the message."
   ]
  },
  {
   "attachments": {},
   "cell_type": "markdown",
   "metadata": {},
   "source": [
    "The problem does become more interesting if we look at trying to solve it without knowing the exact shift like we did in problem 3 (ROT-13). \n",
    "\n",
    "**Encoding**\n",
    "\n",
    "The solution encoding could be handled as follows:\n",
    "\n",
    "For the Chromosome: A chromosome will represent a possible solution and it will consist of two parts:\n",
    "- The shift value (k) - an integer value representing how many places each letter in the string should be shifted.\n",
    "- The decoded message - a string that is obtained by applying the shift value to each character in the encoded message.\n",
    "\n",
    "Interpretation of the Chromosome: The chromosome is interpreted as the decoded message with a particular shift value.\n",
    "\n",
    "The chromosome could be represented as shown below. It should be noted that if we're working with a standard English alphabet and a space then we have 27 possible characters (0 to 26 indices).\n",
    "\n",
    "chromosome = {\n",
    "    'shift_value': <integer between 0 and 26>,\n",
    "    'deciphered_text': <sequence of characters>\n",
    "}\n",
    "\n",
    "Here, `shift_value` is an integer representing how many positions each letter in the cipher text is shifted. `deciphered_text` is a string representing the text obtained by decrypting the cipher text with the given `shift_value`.\n",
    "\n",
    "When initializing the population, the goal is to create chromosomes with random values for shift_value (between 0 and 26) and random characters for the `deciphered_text`. Note that the initial `deciphered_text` can be generated by applying the `shift_value` to the original encrypted text. The initial population is expected to contain mostly incorrect deciphered texts.\n",
    "\n",
    "Here is a more concrete example of a single chromosome from the initial population:\n",
    "\n",
    "{\n",
    "    'shift_value': 5,\n",
    "    'deciphered_text': 'afmmp'\n",
    "}\n",
    "\n",
    "What is very interesting to note in this problem, that since the `shift_value` is not known at the start of the problem, it is possible to get jibberish text, as we see in the example above. The genetic algorithm that is used in this problem, if used correctly, should evolve to have chromosomes with the correct `shift_value` and the correct `deciphered_text`. The chromosome where the `deciphered_text` matches that actual human-readable text would have a high fitness score, like:\n",
    "\n",
    "{\n",
    "    'shift_value': 2,\n",
    "    'deciphered_text': 'hello'\n",
    "}\n",
    "\n",
    "It should be noted that the chromosome can be encoded as follows: [5, 'a', 'f', 'm', 'm', 'p']. The first location of the list/array is always the `shift_value`. The phenotype (string representation) can then be represented as: \"5:afmmp\" and the string can be split on the colon to obtain the `shift_value` as well as the `deciphered_text`.\n",
    "\n",
    "**Fitness Function**\n",
    "\n",
    "The fitness function is very important to help guide the genetic algorithm towards better solutions. The goal of our fitness function should be to evaluate how close the decrypted text is to being a meaningful English word or words, or how closely it matches the target string, if provided. The fitness function could use something like a dictionary look-up to see how many words are actually found in the target language. The more words found in the dictionary would lead to a higher fitness score. For each character present in either the genotype or phenotype (whatever the fitness function requires), the `shift_value` that is part of the chromosome allows the function to decrypt the character. The score is then computed on a character-by-character basis compared to the target text (assuming it's given). This is similar to what is done in problem 3.\n",
    "\n",
    "It should also be noted that in addition to the dictionary look-up approach, other statistical methods could be used. These can be things like measuring letter frequencies and/or bigram/trigram frequencies (see https://en.wikipedia.org/wiki/Bigram or https://en.wikipedia.org/wiki/Trigram for more details).\n",
    "\n",
    "**Genetic Algorithm**\n",
    "\n",
    "There could be further updates to the main genetic algorithm, if required. For the crossover step, it could involve combining the `shift_value` from one parent with the `deciphered_text` from another parent. For mutation, the `shift_value` and/or `deciphered_text` in the chromosome could be altered. Selection is also a very important aspect in the genetic algorithm, as it decides which chromosomes are chosen for reproduction. As we havee seen, chromosomes with higher fitness (or lower fitness depending upon how the function is defined) have a higher chance of being selected. Additionally, it's important to mention that crossover and mutation should be performed in such a way that valid chromosomes are produced (e.g. the `shift_value` should always be within the valid range).\n",
    "\n",
    "The genetic algorithm should also contain a termination condition which can consist of hitting the max number of defined generations, the min or max allowed fitness score, or even a time limit if one chooses to define it.\n",
    "\n",
    "I also think it's worth noting that it isn't guaranteed to find the globle optima when using a genetic algorithm. Genetic algorithms are stochastic and no two runs of the algorithm may produce the exact same result. "
   ]
  }
 ],
 "metadata": {
  "kernelspec": {
   "display_name": "Python 3",
   "language": "python",
   "name": "python3"
  },
  "language_info": {
   "codemirror_mode": {
    "name": "ipython",
    "version": 3
   },
   "file_extension": ".py",
   "mimetype": "text/x-python",
   "name": "python",
   "nbconvert_exporter": "python",
   "pygments_lexer": "ipython3",
   "version": "3.10.12"
  },
  "toc": {
   "colors": {
    "hover_highlight": "#DAA520",
    "navigate_num": "#000000",
    "navigate_text": "#333333",
    "running_highlight": "#FF0000",
    "selected_highlight": "#FFD700",
    "sidebar_border": "#EEEEEE",
    "wrapper_background": "#FFFFFF"
   },
   "moveMenuLeft": true,
   "nav_menu": {
    "height": "120px",
    "width": "252px"
   },
   "navigate_menu": true,
   "number_sections": true,
   "sideBar": true,
   "threshold": 4,
   "toc_cell": false,
   "toc_section_display": "block",
   "toc_window_display": false,
   "widenNotebook": false
  }
 },
 "nbformat": 4,
 "nbformat_minor": 4
}
