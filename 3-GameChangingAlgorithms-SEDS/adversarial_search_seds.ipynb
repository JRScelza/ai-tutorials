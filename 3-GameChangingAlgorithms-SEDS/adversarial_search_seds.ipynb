{
 "cells": [
  {
   "cell_type": "markdown",
   "metadata": {},
   "source": [
    "<p style=\"font-size: 18px;\">\n",
    "  This is the accompanying code for the post titled \"Game-Changing Algorithms: SEDS in Python for Better Decision-Making\"<br>\n",
    "  You can find it <a href=\"https://pureai.substack.com/p/game-changing-algorithms\">here</a>.<br>\n",
    "  Published: September 9, 2023<br>\n",
    "  <a href=\"https://pureai.substack.com\">https://pureai.substack.com</a>\n",
    "</p>"
   ]
  },
  {
   "cell_type": "markdown",
   "metadata": {},
   "source": [
    "Welcome to this Jupyter notebook! If you're new to Python or don't have it installed on your system, don't worry; you can still follow along and explore the code.\n",
    "\n",
    "Here's a quick guide to getting started:\n",
    "\n",
    "- Using an Online Platform: You can run this notebook in a web browser using platforms like Google Colab or Binder. These services offer free access to Jupyter notebooks and don't require any installation.\n",
    "- Installing Python Locally: If you'd prefer to run this notebook on your own machine, you'll need to install Python. A popular distribution for scientific computing is Anaconda, which includes Python, Jupyter, and other useful tools.\n",
    "  - Download Anaconda from [here](https://www.anaconda.com/download).\n",
    "  - Follow the installation instructions for your operating system.\n",
    "  - Launch Jupyter Notebook from Anaconda Navigator or by typing jupyter notebook in your command line or terminal.\n",
    "- Opening the Notebook: Once you have Jupyter running, navigate to the location of this notebook file (.ipynb) and click on it to open.\n",
    "- Running the Code: You can run each cell in the notebook by selecting it and pressing Shift + Enter. Feel free to modify the code and experiment with it.\n",
    "- Need More Help?: If you're new to Python or Jupyter notebooks, you might find these resources helpful:\n",
    "  - [Python.org's Beginner's Guide](https://docs.python.org/3/tutorial/index.html)\n",
    "  - [Jupyter Notebook Basics](https://jupyter-notebook.readthedocs.io/en/stable/examples/Notebook/Notebook%20Basics.html)\n",
    "\n",
    "Happy coding, and enjoy exploring the fascinating world of Adversarial Search Algorithms!"
   ]
  },
  {
   "cell_type": "code",
   "execution_count": 1,
   "metadata": {},
   "outputs": [
    {
     "name": "stdout",
     "output_type": "stream",
     "text": [
      "The version of Python used is: 3.10.12\n"
     ]
    }
   ],
   "source": [
    "# A small readme\n",
    "from platform import python_version\n",
    "print(f\"The version of Python used is: {python_version()}\")\n",
    "\n",
    "import random\n",
    "from typing import List, Tuple, Dict, Callable, Set, Optional"
   ]
  },
  {
   "cell_type": "markdown",
   "metadata": {},
   "source": [
    "_The following Jupyter notebook is an adaptation of a programming assignment in Johns Hopkins' Artificial Intelligence course, part of the Whiting School of Engineering EP Master's program._"
   ]
  },
  {
   "attachments": {},
   "cell_type": "markdown",
   "metadata": {},
   "source": [
    "## Solving Normal Form Games"
   ]
  },
  {
   "attachments": {},
   "cell_type": "markdown",
   "metadata": {},
   "source": [
    "In the lecture we talked about the Prisoner's Dilemma game, shown here in Normal Form:\n",
    "\n",
    "Player 1 / Player 2  | Defect | Cooperate\n",
    "------------- | ------------- | -------------\n",
    "Defect  | -5, -5 | -1, -10\n",
    "Cooperate  | -10, -1 | -2, -2\n",
    "\n",
    "where the payoff to Player 1 is the left number and the payoff to Player 2 is the right number. We can represent each payoff cell as a Tuple: `(-5, -5)`, for example. We can represent each row as a List of Tuples: `[(-5, -5), (-1, -10)]` would be the first row and the entire table as a List of Lists:"
   ]
  },
  {
   "cell_type": "code",
   "execution_count": 2,
   "metadata": {},
   "outputs": [
    {
     "data": {
      "text/plain": [
       "[[(-5, -5), (-1, -10)], [(-10, -1), (-2, -2)]]"
      ]
     },
     "execution_count": 2,
     "metadata": {},
     "output_type": "execute_result"
    }
   ],
   "source": [
    "prisoners_dilemma = [\n",
    " [( -5, -5), (-1,-10)],\n",
    " [(-10, -1), (-2, -2)]]\n",
    "\n",
    "prisoners_dilemma"
   ]
  },
  {
   "attachments": {},
   "cell_type": "markdown",
   "metadata": {},
   "source": [
    "in which case the strategies are represented by indices into the List of Lists. For example, `(Defect, Cooperate)` for the above game becomes `prisoners_dilemma[ 0][ 1]` and returns the payoff `(-1, -10)` because 0 is the first row of the table (\"Defect\" for Player 1) and 1 is the 2nd column of the row (\"Cooperate\" for Player 2).\n",
    "\n",
    "For this assignment, you are going write a function that uses Successive Elimination of Dominated Strategies (SEDS) to find the **pure strategy** Nash Equilibrium of a Normal Form Game. The function is called `solve_game`:\n",
    "\n",
    "```python\n",
    "def solve_game( game: List[List[Tuple]], weak=False) -> Tuple:\n",
    "    pass # returns strategy indices of Nash equilibrium or None.\n",
    "```\n",
    "\n",
    "and it takes two parameters: the game, in a format that we described earlier and an optional boolean flag that controls whether the algorithm considers only **strongly dominated strategies** (the default will be false) or whether it should consider **weakly dominated strategies** as well.\n",
    "\n",
    "It should work with game matrices of any size and it will return the **strategy indices** of the Nash Equilibrium. If there is no **pure strategy** equilibrium that can be found using SEDS, return `None`.\n",
    "\n",
    "\n",
    "<div style=\"background: mistyrose; color: firebrick; border: 2px solid darkred; padding: 5px; margin: 10px;\">\n",
    "Do not return the payoff. That's not useful. Return the strategy indices, any other output is incorrect.\n",
    "</div>\n",
    "\n",
    "As before, you must provide your implementation in the space below, one Markdown cell for documentation and one Code cell for implementation, one function and assertations per Codecell.\n",
    "\n",
    "\n",
    "---"
   ]
  },
  {
   "attachments": {},
   "cell_type": "markdown",
   "metadata": {},
   "source": [
    "### eliminate_strategies_player1\n",
    "\n",
    "*This function takes in a game matrix, the remaining rows and cols and determines if there are strongly or weakly dominated strategies for Player 1. If there are, it removes them from the game matrix set and returns the eliminated boolean.*\n",
    "\n",
    "* **game** List[List[Tuple[int,int]]]: The game matrix\n",
    "* **remaining_rows** Set[int]: The remaining rows for Player 1\n",
    "* **remaining_cols** Set[int]: The remaining cols for Player 2\n",
    "* **weak** bool: Whether to consider weakly dominated strategies\n",
    "\n",
    "*Returns: eliminated bool: Whether any strategies were eliminated*"
   ]
  },
  {
   "cell_type": "code",
   "execution_count": 3,
   "metadata": {},
   "outputs": [],
   "source": [
    "def eliminate_strategies_player1(game: List[List[Tuple[int, int]]], remaining_rows: Set[int], remaining_cols: Set[int], weak: bool = False) -> bool:\n",
    "    eliminated = False\n",
    "    for i in list(remaining_rows):\n",
    "        for j in list(remaining_rows):\n",
    "            if i != j:\n",
    "                dominates = all(game[j][k][0] >= game[i][k][0] for k in remaining_cols) if weak else all(game[j][k][0] > game[i][k][0] for k in remaining_cols)\n",
    "                if dominates:\n",
    "                    remaining_rows.remove(i)\n",
    "                    eliminated = True\n",
    "                    break\n",
    "    return eliminated"
   ]
  },
  {
   "attachments": {},
   "cell_type": "markdown",
   "metadata": {},
   "source": [
    "### unit test: eliminate_strategies_player1"
   ]
  },
  {
   "cell_type": "code",
   "execution_count": 4,
   "metadata": {},
   "outputs": [],
   "source": [
    "# Arrange\n",
    "# Example game matrix\n",
    "prisoners_dilemma = [\n",
    "    [(-5, -5), (-1, -10)],\n",
    "    [(-10, -1), (-2, -2)]\n",
    "]\n",
    "\n",
    "# Set of indices for the remaining strategies for player 1 and 2\n",
    "remaining_rows = set(range(len(prisoners_dilemma)))\n",
    "assert remaining_rows == {0, 1}, \"Expected remaining strategies to be {0, 1}\"\n",
    "remaining_cols = set(range(len(prisoners_dilemma[0])))\n",
    "\n",
    "# Act\n",
    "eliminated = eliminate_strategies_player1(prisoners_dilemma, remaining_rows, remaining_cols)\n",
    "\n",
    "# Assert the function has eliminated a strategy for player 1\n",
    "assert eliminated == True\n",
    "\n",
    "# Assert that remaining_rows has changed (meaning a strategy was eliminated)\n",
    "assert remaining_rows == {0}, \"Expected remaining strategies to be {0}\""
   ]
  },
  {
   "attachments": {},
   "cell_type": "markdown",
   "metadata": {},
   "source": [
    "### eliminate_strategies_player2\n",
    "\n",
    "*This function takes in a game matrix, the remaining rows and cols and determines if there are strongly or weakly dominated strategies for Player 2. If there are, it removes them from the game matrix set and returns the eliminated boolean.*\n",
    "\n",
    "* **game** List[List[Tuple[int,int]]]: The game matrix\n",
    "* **remaining_rows** Set[int]: The remaining rows for Player 1\n",
    "* **remaining_cols** Set[int]: The remaining cols for Player 2\n",
    "* **weak** bool: Whether to consider weakly dominated strategies\n",
    "\n",
    "*Returns: eliminated bool: Whether any strategies were eliminated*"
   ]
  },
  {
   "cell_type": "code",
   "execution_count": 5,
   "metadata": {},
   "outputs": [],
   "source": [
    "def eliminate_strategies_player2(game: List[List[Tuple[int, int]]], remaining_rows: Set[int], remaining_cols: Set[int], weak: bool = False) -> bool:\n",
    "    eliminated = False\n",
    "    for k in list(remaining_cols):\n",
    "        for l in list(remaining_cols):\n",
    "            if k != l:\n",
    "                dominates = all(game[i][l][1] >= game[i][k][1] for i in remaining_rows) if weak else all(game[i][l][1] > game[i][k][1] for i in remaining_rows)\n",
    "                if dominates:\n",
    "                    remaining_cols.remove(k)\n",
    "                    eliminated = True\n",
    "                    break\n",
    "    return eliminated"
   ]
  },
  {
   "attachments": {},
   "cell_type": "markdown",
   "metadata": {},
   "source": [
    "### unit test: eliminate_strategies_player2"
   ]
  },
  {
   "cell_type": "code",
   "execution_count": 6,
   "metadata": {},
   "outputs": [],
   "source": [
    "# Arrange\n",
    "# Example game matrix\n",
    "prisoners_dilemma = [\n",
    "    [(-5, -5), (-1, -10)],\n",
    "    [(-10, -1), (-2, -2)]\n",
    "]\n",
    "\n",
    "# Set of indices for the remaining strategies for player 1 and 2\n",
    "remaining_rows = set(range(len(prisoners_dilemma)))\n",
    "remaining_cols = set(range(len(prisoners_dilemma[0])))\n",
    "assert remaining_cols == {0, 1}, \"Expected remaining strategies to be {0, 1}\"\n",
    "\n",
    "# Act\n",
    "eliminated = eliminate_strategies_player2(prisoners_dilemma, remaining_rows, remaining_cols)\n",
    "\n",
    "# Assert the function has eliminated a strategy for player 2\n",
    "assert eliminated == True\n",
    "\n",
    "# Assert that remaining_rows has changed (meaning a strategy was eliminated)\n",
    "assert remaining_cols == {0}, \"Expected remaining strategies to be {0}\""
   ]
  },
  {
   "attachments": {},
   "cell_type": "markdown",
   "metadata": {},
   "source": [
    "### eliminate_dominated_strategies\n",
    "\n",
    "*This function takes in a game matrix, the remaining rows and cols and determines and a player and then calls for each player to determine if they have any strongly dominant strategies. If there are, it removes them from the game matrix set and returns the eliminated boolean.*\n",
    "\n",
    "* **game** List[List[Tuple[int,int]]]: The game matrix\n",
    "* **remaining_rows** Set[int]: The remaining rows for Player 1\n",
    "* **remaining_cols** Set[int]: The remaining cols for Player 2\n",
    "* **weak** bool: Whether to consider weakly dominated strategies\n",
    "* **player** int: The player (1 or 2) to check for dominant strategies\n",
    "\n",
    "*Returns: eliminated bool: Whether any strategies were eliminated*"
   ]
  },
  {
   "cell_type": "code",
   "execution_count": 7,
   "metadata": {},
   "outputs": [],
   "source": [
    "def eliminate_dominated_strategies(game: List[List[Tuple[int, int]]], remaining_rows: Set[int], remaining_cols: Set[int], weak: bool, start_player: int) -> bool:\n",
    "    eliminated = False\n",
    "    \n",
    "    # Choose the order based on the starting player\n",
    "    if start_player == 1:\n",
    "        eliminated = eliminate_strategies_player1(game, remaining_rows, remaining_cols, weak)\n",
    "        eliminated = eliminate_strategies_player2(game, remaining_rows, remaining_cols, weak)\n",
    "    else:\n",
    "        eliminated = eliminate_strategies_player2(game, remaining_rows, remaining_cols, weak)\n",
    "        eliminated = eliminate_strategies_player1(game, remaining_rows, remaining_cols, weak)\n",
    "    \n",
    "    return eliminated"
   ]
  },
  {
   "attachments": {},
   "cell_type": "markdown",
   "metadata": {},
   "source": [
    "### unit test: eliminate_dominated_strategies"
   ]
  },
  {
   "cell_type": "code",
   "execution_count": 8,
   "metadata": {},
   "outputs": [],
   "source": [
    "# Example game matrix\n",
    "test_game = [[(10, 10), (14, 12), (14, 15)], \n",
    "             [(12, 14), (20, 20), (28, 15)],\n",
    "             [(15, 14), (15, 28), (25, 25)]]\n",
    "\n",
    "# Test with player 1 starting\n",
    "remaining_rows = set(range(len(test_game)))\n",
    "remaining_cols = set(range(len(test_game[0])))\n",
    "\n",
    "# Call the function and store the result\n",
    "eliminated = eliminate_dominated_strategies(test_game, remaining_rows, remaining_cols, weak=False, start_player=1)\n",
    "\n",
    "# Assert the function has eliminated a strategy for player 1 and/or player 2\n",
    "assert eliminated == True, \"Expected True, since some strategies are dominated\"\n",
    "\n",
    "# Assert that remaining_rows and remaining_cols have changed (meaning a strategy was eliminated)\n",
    "assert remaining_rows == {1, 2}, \"Expected remaining strategies for player 1 to be {0, 2} when player 2 starts\"\n",
    "assert remaining_cols == {1}, \"Expected remaining strategies for player 2 to be {1} when player 2 starts\""
   ]
  },
  {
   "attachments": {},
   "cell_type": "markdown",
   "metadata": {},
   "source": [
    "### solve_game\n",
    "\n",
    "*Solves the specified game using the SEDS algorithm. Depending upon which player starts, each player will attempt to eliminate their weaker strategies by looking for either strongly dominant strategies or weakly dominant strategies. Player 1 operates on the strategies in the rows and Player 2 operates on the strategies in the columns. If a pure strategy Nash equilibrium exists, the remaining rows and remaining cols will be one each, which points to the indices of the equilibrium point. If no Nash Equilibrium point exists, the function returns None.*\n",
    "\n",
    "* **game** List[List[Tuple[int, int]]]: The game matrix where each element is a tuple (payoff_player_0, payoff_player_1)\n",
    "* **weak** bool: If True, look for weakly dominated strategies. If False, look for strictly dominated strategies.\n",
    "\n",
    "**returns** Tuple: The indices of the Nash equilibrium strategies, or None if no such strategies exist."
   ]
  },
  {
   "cell_type": "code",
   "execution_count": 9,
   "metadata": {},
   "outputs": [],
   "source": [
    "def solve_game(game: List[List[Tuple[int, int]]], weak: bool = False) -> Tuple[int, int]:\n",
    "    # Pick a random start player between 1 and 2\n",
    "    start_player = random.randint(1, 2)\n",
    "\n",
    "    remaining_rows = set(range(len(game)))\n",
    "    remaining_cols = set(range(len(game[0])))\n",
    "    \n",
    "    while True:\n",
    "        # Eliminate dominated strategies\n",
    "        eliminated = eliminate_dominated_strategies(game, remaining_rows, remaining_cols, weak, start_player)\n",
    "        # If no strategy was eliminated in this iteration, we are done\n",
    "        if not eliminated:\n",
    "            break\n",
    "    \n",
    "    # Return remaining strategies as indices\n",
    "    if len(remaining_rows) == 1 and len(remaining_cols) == 1:\n",
    "        return [(i, j) for i in remaining_rows for j in remaining_cols][0]\n",
    "    else:\n",
    "        None"
   ]
  },
  {
   "attachments": {},
   "cell_type": "markdown",
   "metadata": {},
   "source": [
    "### unit tests: solve_game"
   ]
  },
  {
   "cell_type": "code",
   "execution_count": 10,
   "metadata": {},
   "outputs": [],
   "source": [
    "# Example usage\n",
    "prisoners_dilemma = [\n",
    "    [(-5, -5), (-1, -10)],\n",
    "    [(-10, -1), (-2, -2)]\n",
    "]\n",
    "\n",
    "# Solving the game using Successive Elimination of Dominated Strategies (SEDS)\n",
    "assert (solve_game(prisoners_dilemma) == (0,0))\n",
    "\n",
    "test_game = [[(20, 20), (28, 15)], \n",
    "             [(15, 28), (25, 25)]]\n",
    "\n",
    "assert (solve_game(test_game) == (0,0))\n",
    "\n",
    "self_check_example = [[(10, 10), (14, 12), (14, 15)], \n",
    "                      [(12, 14), (20, 20), (28, 15)],\n",
    "                      [(15, 14), (15, 28), (25, 25)]]\n",
    "\n",
    "assert (solve_game(self_check_example) == (1,1))"
   ]
  },
  {
   "attachments": {},
   "cell_type": "markdown",
   "metadata": {},
   "source": [
    "## Additional Directions\n",
    "\n",
    "Create three games as described and according to the following:\n",
    "\n",
    "1. Your games must be created and solved \"by hand\".\n",
    "2. The strategy pairs must **not** be on the main diagonal (0, 0), (1, 1), or (2, 2). And the solution cannot be the same for both Game 1 and Game 2.\n",
    "3. Make sure you fill out the Markdown (\"?\") with your game as well as the solution (\"?\").\n",
    "4. Remember, **do not return the payoff**, return the strategy indices.\n",
    "\n",
    "For games that can be solved with *weak* SEDS, there may be more than one solution. You only need to return the first solution found. However, if you would like to return all solutions, you can implement `solve_game` as state space search."
   ]
  },
  {
   "attachments": {},
   "cell_type": "markdown",
   "metadata": {},
   "source": [
    "### Test Game 1. Create a 3x3 two player game\n",
    "\n",
    "**that can only be solved using the Successive Elimintation of Strongly Dominated Strategies**\n",
    "\n",
    "| Player 1 / Player 2  | 0 | 1 | 2 |\n",
    "|----|----|----|----|\n",
    "|0  | (6,4) | (1,0) | (3,2) |\n",
    "|1  | (8,7) | (4,3) | (5,3) |\n",
    "|2  | (4,3) | (2,1) | (4,3) |\n",
    "\n",
    "**Solution:** (1,0)\n",
    "\n",
    "The steps to reproduce this game are (if player 1 starts):\n",
    "\n",
    "We check for strongly dominant strategies for player 1 (a comparison of the first value in the tuple between the rows). We see that row 1 is strictly dominant over row 0, so we remove row 0 from the game matrix. 8 > 6 && 4 > 1 && 5 > 3.\n",
    "\n",
    "| Player 1 / Player 2  | 0 | 1 | 2 |\n",
    "|----|----|----|----|\n",
    "|0  | - | - | - |\n",
    "|1  | (8,7) | (4,3) | (5,3) |\n",
    "|2  | (4,3) | (2,1) | (4,3) |\n",
    "\n",
    "Player 2 now has a turn to check for strongly dominant strategies (a comparison of the second value in the tuple between the columns). We see that column 0 is strictly dominant over column 1, so we remove column 1 from the game matrix. That is 7 > 3 && 3 > 1.\n",
    "\n",
    "| Player 1 / Player 2  | 0 | 1 | 2 |\n",
    "|----|----|----|----|\n",
    "|0  | - | - | - |\n",
    "|1  | (8,7) | - | (5,3) |\n",
    "|2  | (4,3) | - | (4,3) |\n",
    "\n",
    "For Player 1's turn, we look for strongly dominant strategies. We see that row 1 is strictly dominant over row 2, so we remove row 2 from the game matrix. 8 > 4 && 5 > 4.\n",
    "\n",
    "| Player 1 / Player 2  | 0 | 1 | 2 |\n",
    "|----|----|----|----|\n",
    "|0  | - | - | - |\n",
    "|1  | (8,7) | - | (5,3) |\n",
    "|2  | - | - | - |\n",
    "\n",
    "Lastly, Player 2 has a chance to look for strongly dominant strategies. We find that 7 > 3, thus column 0 is strictly dominant over column 2, so we remove column 2 from the game matrix.\n",
    "\n",
    "| Player 1 / Player 2  | 0 | 1 | 2 |\n",
    "|----|----|----|----|\n",
    "|0  | - | - | - |\n",
    "|1  | (8,7) | - | - |\n",
    "|2  | - | - | - |\n",
    "\n",
    "We end with the solution being (1,0)"
   ]
  },
  {
   "cell_type": "code",
   "execution_count": 11,
   "metadata": {},
   "outputs": [
    {
     "name": "stdout",
     "output_type": "stream",
     "text": [
      "(1, 0)\n"
     ]
    }
   ],
   "source": [
    "test_game_1 = [[(6, 4), (1, 0), (3, 2)], \n",
    "               [(8, 7), (4, 3), (5, 3)],\n",
    "               [(4, 3), (2, 1), (4, 3)]]\n",
    "\n",
    "solution = solve_game(test_game_1)\n",
    "print(solution)"
   ]
  },
  {
   "cell_type": "code",
   "execution_count": 12,
   "metadata": {},
   "outputs": [],
   "source": [
    "assert solution == (1,0)"
   ]
  },
  {
   "attachments": {},
   "cell_type": "markdown",
   "metadata": {},
   "source": [
    "### Test Game 2. Create a 3x3 two player game\n",
    "\n",
    "**that can only be solved using the Successive Elimintation of Weakly Dominated Strategies**\n",
    "\n",
    "| Player 1 / Player 2  | 0 | 1 | 2 |\n",
    "|----|----|----|----|\n",
    "|0  | (5,3) | (1,1) | (3,3) |\n",
    "|1  | (2,0) | (3,3) | (0,0) |\n",
    "|2  | (5,3) | (4,0) | (3,1) |\n",
    "\n",
    "**Solution:** (2,0)"
   ]
  },
  {
   "cell_type": "code",
   "execution_count": 13,
   "metadata": {},
   "outputs": [],
   "source": [
    "test_game_2 = [[(5, 3), (1, 1), (3, 3)], \n",
    "               [(2, 0), (3, 3), (0, 0)],\n",
    "               [(5, 3), (4, 0), (3, 1)]]\n",
    "\n",
    "strong_solution = solve_game(test_game_2)\n",
    "weak_solution = solve_game(test_game_2, weak=True)"
   ]
  },
  {
   "cell_type": "code",
   "execution_count": 14,
   "metadata": {},
   "outputs": [],
   "source": [
    "assert strong_solution == None\n",
    "assert weak_solution == (2,0)"
   ]
  },
  {
   "attachments": {},
   "cell_type": "markdown",
   "metadata": {},
   "source": [
    "### Test Game 3. Create a 3x3 two player game\n",
    "\n",
    "**that cannot be solved using the Successive Elimintation of Dominated Strategies at all**\n",
    "\n",
    "| Player 1 / Player 2  | 0 | 1 | 2 |\n",
    "|----|----|----|----|\n",
    "|0  | (0,3) | (0,1) | (0,0) |\n",
    "|1  | (2,0) | (12,12) | (1,6) |\n",
    "|2  | (4,3) | (2,0) | (3,1) |\n",
    "\n",
    "**Solution:** None"
   ]
  },
  {
   "cell_type": "code",
   "execution_count": 15,
   "metadata": {},
   "outputs": [],
   "source": [
    "test_game_3 = [[(0, 3), (0, 1), (0, 0)], \n",
    "               [(2, 0), (12, 12), (1, 6)],\n",
    "               [(4, 3), (2, 0), (3, 1)]]\n",
    "\n",
    "strong_solution = solve_game(test_game_3)\n",
    "weak_solution = solve_game(test_game_3, weak=True)"
   ]
  },
  {
   "cell_type": "code",
   "execution_count": 16,
   "metadata": {},
   "outputs": [],
   "source": [
    "assert strong_solution == None\n",
    "assert weak_solution == None"
   ]
  }
 ],
 "metadata": {
  "kernelspec": {
   "display_name": "Python 3",
   "language": "python",
   "name": "python3"
  },
  "language_info": {
   "codemirror_mode": {
    "name": "ipython",
    "version": 3
   },
   "file_extension": ".py",
   "mimetype": "text/x-python",
   "name": "python",
   "nbconvert_exporter": "python",
   "pygments_lexer": "ipython3",
   "version": "3.10.12"
  },
  "toc": {
   "colors": {
    "hover_highlight": "#DAA520",
    "navigate_num": "#000000",
    "navigate_text": "#333333",
    "running_highlight": "#FF0000",
    "selected_highlight": "#FFD700",
    "sidebar_border": "#EEEEEE",
    "wrapper_background": "#FFFFFF"
   },
   "moveMenuLeft": true,
   "nav_menu": {
    "height": "135px",
    "width": "252px"
   },
   "navigate_menu": true,
   "number_sections": true,
   "sideBar": true,
   "threshold": 4,
   "toc_cell": false,
   "toc_section_display": "block",
   "toc_window_display": false,
   "widenNotebook": false
  }
 },
 "nbformat": 4,
 "nbformat_minor": 4
}
